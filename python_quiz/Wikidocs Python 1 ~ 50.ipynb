{
 "cells": [
  {
   "cell_type": "markdown",
   "id": "434e2b76",
   "metadata": {},
   "source": [
    "001"
   ]
  },
  {
   "cell_type": "code",
   "execution_count": 1,
   "id": "b1cf99d8",
   "metadata": {},
   "outputs": [
    {
     "name": "stdout",
     "output_type": "stream",
     "text": [
      "Hello World\n"
     ]
    }
   ],
   "source": [
    "print(\"Hello World\")"
   ]
  },
  {
   "cell_type": "markdown",
   "id": "8fb2948a",
   "metadata": {},
   "source": [
    "002"
   ]
  },
  {
   "cell_type": "code",
   "execution_count": 2,
   "id": "4441154a",
   "metadata": {},
   "outputs": [
    {
     "name": "stdout",
     "output_type": "stream",
     "text": [
      "Mary's cosmetics\n"
     ]
    }
   ],
   "source": [
    "print(\"Mary's cosmetics\")"
   ]
  },
  {
   "cell_type": "markdown",
   "id": "83a07448",
   "metadata": {},
   "source": [
    "003"
   ]
  },
  {
   "cell_type": "code",
   "execution_count": 3,
   "id": "988d38f0",
   "metadata": {},
   "outputs": [
    {
     "name": "stdout",
     "output_type": "stream",
     "text": [
      "신씨가 소리질렀다. \"도둑이야\".\n"
     ]
    }
   ],
   "source": [
    "print('신씨가 소리질렀다. \"도둑이야\".')"
   ]
  },
  {
   "cell_type": "markdown",
   "id": "0a95ac14",
   "metadata": {},
   "source": [
    "004"
   ]
  },
  {
   "cell_type": "code",
   "execution_count": 4,
   "id": "2d471998",
   "metadata": {},
   "outputs": [
    {
     "name": "stdout",
     "output_type": "stream",
     "text": [
      "C:\\Window\n"
     ]
    }
   ],
   "source": [
    "print(\"C:\\Window\")"
   ]
  },
  {
   "cell_type": "markdown",
   "id": "c288e274",
   "metadata": {},
   "source": [
    "005"
   ]
  },
  {
   "cell_type": "code",
   "execution_count": 5,
   "id": "0e8bced3",
   "metadata": {},
   "outputs": [
    {
     "name": "stdout",
     "output_type": "stream",
     "text": [
      "안녕하세요.\n",
      "만나서\t\t반갑습니다.\n"
     ]
    }
   ],
   "source": [
    "print(\"안녕하세요.\\n만나서\\t\\t반갑습니다.\")"
   ]
  },
  {
   "cell_type": "markdown",
   "id": "906ebdee",
   "metadata": {},
   "source": [
    "006"
   ]
  },
  {
   "cell_type": "code",
   "execution_count": 6,
   "id": "786c59e7",
   "metadata": {},
   "outputs": [
    {
     "name": "stdout",
     "output_type": "stream",
     "text": [
      "오늘은 일요일\n"
     ]
    }
   ],
   "source": [
    "print (\"오늘은\", \"일요일\")"
   ]
  },
  {
   "cell_type": "markdown",
   "id": "89f47315",
   "metadata": {},
   "source": [
    "007"
   ]
  },
  {
   "cell_type": "code",
   "execution_count": 11,
   "id": "0946f54f",
   "metadata": {},
   "outputs": [
    {
     "name": "stdout",
     "output_type": "stream",
     "text": [
      "naver;kakao;sk;samsung\n"
     ]
    }
   ],
   "source": [
    "print(\"naver\", \"kakao\", \"sk\", \"samsung\", sep=\";\")"
   ]
  },
  {
   "cell_type": "markdown",
   "id": "5307970b",
   "metadata": {},
   "source": [
    "008"
   ]
  },
  {
   "cell_type": "code",
   "execution_count": 12,
   "id": "2e1df517",
   "metadata": {},
   "outputs": [
    {
     "name": "stdout",
     "output_type": "stream",
     "text": [
      "naver/kakao/sk/samsung\n"
     ]
    }
   ],
   "source": [
    "print(\"naver\", \"kakao\", \"sk\", \"samsung\", sep=\"/\")"
   ]
  },
  {
   "cell_type": "markdown",
   "id": "96890a05",
   "metadata": {},
   "source": [
    "009"
   ]
  },
  {
   "cell_type": "code",
   "execution_count": 16,
   "id": "7b51d33b",
   "metadata": {},
   "outputs": [
    {
     "name": "stdout",
     "output_type": "stream",
     "text": [
      "firstsecond\n"
     ]
    }
   ],
   "source": [
    "print(\"first\", end='');print(\"second\")"
   ]
  },
  {
   "cell_type": "markdown",
   "id": "7e33c09f",
   "metadata": {},
   "source": [
    "010"
   ]
  },
  {
   "cell_type": "code",
   "execution_count": 17,
   "id": "d783c17d",
   "metadata": {},
   "outputs": [
    {
     "name": "stdout",
     "output_type": "stream",
     "text": [
      "1.6666666666666667\n"
     ]
    }
   ],
   "source": [
    "print(5/3)"
   ]
  },
  {
   "cell_type": "markdown",
   "id": "2de99dfa",
   "metadata": {},
   "source": [
    "011"
   ]
  },
  {
   "cell_type": "code",
   "execution_count": 19,
   "id": "156ac792",
   "metadata": {},
   "outputs": [
    {
     "name": "stdout",
     "output_type": "stream",
     "text": [
      "500,000\n"
     ]
    }
   ],
   "source": [
    "samsung = 50_000\n",
    "have = 10\n",
    "total = samsung * have\n",
    "print(format(total, ',d'))"
   ]
  },
  {
   "cell_type": "markdown",
   "id": "5d0cfa92",
   "metadata": {},
   "source": [
    "012"
   ]
  },
  {
   "cell_type": "code",
   "execution_count": 29,
   "id": "5ab51ac5",
   "metadata": {},
   "outputs": [
    {
     "name": "stdout",
     "output_type": "stream",
     "text": [
      "298,000,000,000,000 won\n",
      "50,000 won\n",
      "15.79\n"
     ]
    }
   ],
   "source": [
    "mp = 298_000_000_000_000\n",
    "cp = 50_000\n",
    "per = 15.79\n",
    "print(format(mp, ',d'), \"won\")\n",
    "print(format(cp, ',d'), \"won\")\n",
    "print(per)"
   ]
  },
  {
   "cell_type": "markdown",
   "id": "adc0aea4",
   "metadata": {},
   "source": [
    "013"
   ]
  },
  {
   "cell_type": "code",
   "execution_count": 30,
   "id": "0d827468",
   "metadata": {},
   "outputs": [
    {
     "name": "stdout",
     "output_type": "stream",
     "text": [
      "hello! python\n"
     ]
    }
   ],
   "source": [
    "s = \"hello\"\n",
    "t = \"python\"\n",
    "print(s + \"!\", t)"
   ]
  },
  {
   "cell_type": "markdown",
   "id": "8126ab04",
   "metadata": {},
   "source": [
    "014"
   ]
  },
  {
   "cell_type": "code",
   "execution_count": 31,
   "id": "60d8b530",
   "metadata": {},
   "outputs": [
    {
     "name": "stdout",
     "output_type": "stream",
     "text": [
      "8\n"
     ]
    }
   ],
   "source": [
    "print(2 + 2 * 3)"
   ]
  },
  {
   "cell_type": "markdown",
   "id": "8b7a76a3",
   "metadata": {},
   "source": [
    "015"
   ]
  },
  {
   "cell_type": "code",
   "execution_count": 41,
   "id": "f17a252b",
   "metadata": {},
   "outputs": [
    {
     "name": "stdout",
     "output_type": "stream",
     "text": [
      "<class 'str'>\n"
     ]
    }
   ],
   "source": [
    "a = \"132\"\n",
    "print(type(a))"
   ]
  },
  {
   "cell_type": "markdown",
   "id": "074fcb88",
   "metadata": {},
   "source": [
    "016"
   ]
  },
  {
   "cell_type": "code",
   "execution_count": 40,
   "id": "77bda509",
   "metadata": {},
   "outputs": [],
   "source": [
    "num_str = \"720\"\n",
    "num_int = int(num_str)"
   ]
  },
  {
   "cell_type": "markdown",
   "id": "0d2c827a",
   "metadata": {},
   "source": [
    "017"
   ]
  },
  {
   "cell_type": "code",
   "execution_count": null,
   "id": "915bad7b",
   "metadata": {},
   "outputs": [],
   "source": [
    "num = 100\n",
    "num_str = str(100)"
   ]
  },
  {
   "cell_type": "markdown",
   "id": "cc6057e4",
   "metadata": {},
   "source": [
    "018"
   ]
  },
  {
   "cell_type": "code",
   "execution_count": null,
   "id": "2126a5b9",
   "metadata": {},
   "outputs": [],
   "source": [
    "num = 15.79\n",
    "num_f = float(num)"
   ]
  },
  {
   "cell_type": "markdown",
   "id": "4caf9acf",
   "metadata": {},
   "source": [
    "019"
   ]
  },
  {
   "cell_type": "code",
   "execution_count": 46,
   "id": "2654d80c",
   "metadata": {},
   "outputs": [
    {
     "name": "stdout",
     "output_type": "stream",
     "text": [
      "2018 2019 2020\n"
     ]
    }
   ],
   "source": [
    "year = \"2020\"\n",
    "year_int = int(year)\n",
    "print(year_int - 2, end = ' ');print(year_int - 1, end = ' ');print(year_int);"
   ]
  },
  {
   "cell_type": "markdown",
   "id": "36573265",
   "metadata": {},
   "source": [
    "020"
   ]
  },
  {
   "cell_type": "code",
   "execution_count": 47,
   "id": "c57d74b4",
   "metadata": {},
   "outputs": [
    {
     "name": "stdout",
     "output_type": "stream",
     "text": [
      "1,749,024\n"
     ]
    }
   ],
   "source": [
    "price_mon = 48_584\n",
    "mon = 36\n",
    "total = price_mon * mon\n",
    "print(format(total, ',d'))"
   ]
  },
  {
   "cell_type": "markdown",
   "id": "a1b810a2",
   "metadata": {},
   "source": [
    "021"
   ]
  },
  {
   "cell_type": "code",
   "execution_count": 1,
   "id": "c97e776f",
   "metadata": {},
   "outputs": [
    {
     "name": "stdout",
     "output_type": "stream",
     "text": [
      "p t\n"
     ]
    }
   ],
   "source": [
    "letters = 'python'\n",
    "print(letters[0], letters[2])"
   ]
  },
  {
   "cell_type": "markdown",
   "id": "0aed5b5d",
   "metadata": {},
   "source": [
    "022"
   ]
  },
  {
   "cell_type": "code",
   "execution_count": 2,
   "id": "ca9fc32e",
   "metadata": {},
   "outputs": [
    {
     "name": "stdout",
     "output_type": "stream",
     "text": [
      "2210\n"
     ]
    }
   ],
   "source": [
    "license_plate = \"24가 2210\"\n",
    "print(license_plate[-4:])"
   ]
  },
  {
   "cell_type": "markdown",
   "id": "c2270917",
   "metadata": {},
   "source": [
    "023"
   ]
  },
  {
   "cell_type": "code",
   "execution_count": 4,
   "id": "eae713ed",
   "metadata": {},
   "outputs": [
    {
     "name": "stdout",
     "output_type": "stream",
     "text": [
      "홀홀홀\n"
     ]
    }
   ],
   "source": [
    "string = \"홀짝홀짝홀짝\"\n",
    "print(string[::2])"
   ]
  },
  {
   "cell_type": "markdown",
   "id": "9556181c",
   "metadata": {},
   "source": [
    "024"
   ]
  },
  {
   "cell_type": "code",
   "execution_count": 5,
   "id": "93c8b023",
   "metadata": {},
   "outputs": [
    {
     "name": "stdout",
     "output_type": "stream",
     "text": [
      "NOHTYP\n"
     ]
    }
   ],
   "source": [
    "string = \"PYTHON\"\n",
    "print(string[::-1])"
   ]
  },
  {
   "cell_type": "markdown",
   "id": "f83cd87a",
   "metadata": {},
   "source": [
    "025"
   ]
  },
  {
   "cell_type": "code",
   "execution_count": 6,
   "id": "e1ec71b6",
   "metadata": {},
   "outputs": [
    {
     "name": "stdout",
     "output_type": "stream",
     "text": [
      "010 1111 2222\n"
     ]
    }
   ],
   "source": [
    "phone_number = \"010-1111-2222\"\n",
    "print(phone_number.replace(\"-\", \" \"))"
   ]
  },
  {
   "cell_type": "markdown",
   "id": "46b1cb3b",
   "metadata": {},
   "source": [
    "026"
   ]
  },
  {
   "cell_type": "code",
   "execution_count": 7,
   "id": "9f79cfa4",
   "metadata": {},
   "outputs": [
    {
     "name": "stdout",
     "output_type": "stream",
     "text": [
      "01011112222\n"
     ]
    }
   ],
   "source": [
    "phone_number = \"010-1111-2222\"\n",
    "print(phone_number.replace(\"-\", \"\"))"
   ]
  },
  {
   "cell_type": "markdown",
   "id": "9169ba02",
   "metadata": {},
   "source": [
    "027"
   ]
  },
  {
   "cell_type": "code",
   "execution_count": 24,
   "id": "5036ea8d",
   "metadata": {},
   "outputs": [
    {
     "name": "stdout",
     "output_type": "stream",
     "text": [
      "kr\n"
     ]
    }
   ],
   "source": [
    "url = \"http://sharebook.kr\"\n",
    "surl = url.split(\".\")\n",
    "print(surl[1])"
   ]
  },
  {
   "cell_type": "markdown",
   "id": "31cea6ef",
   "metadata": {},
   "source": [
    "028"
   ]
  },
  {
   "cell_type": "code",
   "execution_count": null,
   "id": "826e6c81",
   "metadata": {},
   "outputs": [],
   "source": [
    "lang = 'python' # 문자열은 immutable\n",
    "lang[0] = 'P'\n",
    "print(lang)"
   ]
  },
  {
   "cell_type": "markdown",
   "id": "4049be9e",
   "metadata": {},
   "source": [
    "029"
   ]
  },
  {
   "cell_type": "code",
   "execution_count": 27,
   "id": "20c8d78e",
   "metadata": {},
   "outputs": [
    {
     "name": "stdout",
     "output_type": "stream",
     "text": [
      "Abcdfe2A354A32A\n"
     ]
    }
   ],
   "source": [
    "string = 'abcdfe2a354a32a'\n",
    "print(string.replace('a', 'A'))"
   ]
  },
  {
   "cell_type": "markdown",
   "id": "55dfa2a1",
   "metadata": {},
   "source": [
    "030"
   ]
  },
  {
   "cell_type": "code",
   "execution_count": 28,
   "id": "10a3705a",
   "metadata": {},
   "outputs": [
    {
     "name": "stdout",
     "output_type": "stream",
     "text": [
      "abcd\n"
     ]
    }
   ],
   "source": [
    "string = 'abcd' # 문자열은 immutable\n",
    "string.replace('b', 'B') # replace method로 새로운 문자열이 생성되었지만 할당 X\n",
    "print(string)"
   ]
  },
  {
   "cell_type": "markdown",
   "id": "d7923111",
   "metadata": {},
   "source": [
    "031"
   ]
  },
  {
   "cell_type": "code",
   "execution_count": 30,
   "id": "3038dd03",
   "metadata": {},
   "outputs": [
    {
     "name": "stdout",
     "output_type": "stream",
     "text": [
      "34\n"
     ]
    }
   ],
   "source": [
    "a = \"3\"\n",
    "b = \"4\"\n",
    "print(a + b)"
   ]
  },
  {
   "cell_type": "markdown",
   "id": "b34cba22",
   "metadata": {},
   "source": [
    "032"
   ]
  },
  {
   "cell_type": "code",
   "execution_count": 31,
   "id": "8b93ff7b",
   "metadata": {},
   "outputs": [
    {
     "name": "stdout",
     "output_type": "stream",
     "text": [
      "HiHiHi\n"
     ]
    }
   ],
   "source": [
    "print(\"Hi\" * 3)"
   ]
  },
  {
   "cell_type": "markdown",
   "id": "3067207a",
   "metadata": {},
   "source": [
    "033"
   ]
  },
  {
   "cell_type": "code",
   "execution_count": 38,
   "id": "24799f24",
   "metadata": {},
   "outputs": [
    {
     "name": "stdout",
     "output_type": "stream",
     "text": [
      "--------------------------------------------------------------------------------\n"
     ]
    }
   ],
   "source": [
    "print(\"-\" * 80)"
   ]
  },
  {
   "cell_type": "markdown",
   "id": "73abf131",
   "metadata": {},
   "source": [
    "034"
   ]
  },
  {
   "cell_type": "code",
   "execution_count": 37,
   "id": "4a68473a",
   "metadata": {},
   "outputs": [
    {
     "name": "stdout",
     "output_type": "stream",
     "text": [
      "python java python java python java python java \n"
     ]
    }
   ],
   "source": [
    "t1 = 'python'\n",
    "t2 = 'java'\n",
    "print((t1 + \" \" + t2 + \" \" ) * 4)"
   ]
  },
  {
   "cell_type": "markdown",
   "id": "19c1da0d",
   "metadata": {},
   "source": [
    "035"
   ]
  },
  {
   "cell_type": "code",
   "execution_count": 39,
   "id": "f9ef284a",
   "metadata": {},
   "outputs": [
    {
     "name": "stdout",
     "output_type": "stream",
     "text": [
      "이름: 김민수 나이: 10\n",
      "이름: 이철희 나이: 13\n"
     ]
    }
   ],
   "source": [
    "name1 = \"김민수\" \n",
    "age1 = 10\n",
    "name2 = \"이철희\"\n",
    "age2 = 13\n",
    "print(\"이름: %s 나이: %d\" % (name1, age1))\n",
    "print(\"이름: %s 나이: %d\" % (name2, age2))"
   ]
  },
  {
   "cell_type": "markdown",
   "id": "386e1738",
   "metadata": {},
   "source": [
    "036"
   ]
  },
  {
   "cell_type": "code",
   "execution_count": 41,
   "id": "a5d19038",
   "metadata": {},
   "outputs": [
    {
     "name": "stdout",
     "output_type": "stream",
     "text": [
      "이름 : 김민수 나이 : 10\n",
      "이름 : 이철희 나이 : 13\n"
     ]
    }
   ],
   "source": [
    "name1 = \"김민수\" \n",
    "age1 = 10\n",
    "name2 = \"이철희\"\n",
    "age2 = 13\n",
    "print(\"이름 : {} 나이 : {}\".format(name1, age1))\n",
    "print(\"이름 : {} 나이 : {}\".format(name2, age2))"
   ]
  },
  {
   "cell_type": "markdown",
   "id": "7bc1197b",
   "metadata": {},
   "source": [
    "037"
   ]
  },
  {
   "cell_type": "code",
   "execution_count": 43,
   "id": "5e66c819",
   "metadata": {},
   "outputs": [
    {
     "name": "stdout",
     "output_type": "stream",
     "text": [
      "이름 : 김민수 나이 : 10\n",
      "이름 : 이철희 나이 : 13\n"
     ]
    }
   ],
   "source": [
    "name1 = \"김민수\" \n",
    "age1 = 10\n",
    "name2 = \"이철희\"\n",
    "age2 = 13\n",
    "print(f\"이름 : {name1} 나이 : {age1}\")\n",
    "print(f\"이름 : {name2} 나이 : {age2}\")"
   ]
  },
  {
   "cell_type": "markdown",
   "id": "078032e6",
   "metadata": {},
   "source": [
    "038"
   ]
  },
  {
   "cell_type": "code",
   "execution_count": 44,
   "id": "cd0ffedb",
   "metadata": {},
   "outputs": [
    {
     "name": "stdout",
     "output_type": "stream",
     "text": [
      "5969782550\n"
     ]
    }
   ],
   "source": [
    "shareNUM = \"5,969,782,550\"\n",
    "shareNUM_r = shareNUM.replace(\",\", \"\")\n",
    "print(int(shareNUM_r))"
   ]
  },
  {
   "cell_type": "code",
   "execution_count": null,
   "id": "e63324ba",
   "metadata": {},
   "outputs": [],
   "source": []
  },
  {
   "cell_type": "markdown",
   "id": "2647d661",
   "metadata": {},
   "source": [
    "039"
   ]
  },
  {
   "cell_type": "code",
   "execution_count": 45,
   "id": "d19bf470",
   "metadata": {},
   "outputs": [
    {
     "name": "stdout",
     "output_type": "stream",
     "text": [
      "2020/03\n"
     ]
    }
   ],
   "source": [
    "quarter = \"2020/03(E) (IFRS연결)\"\n",
    "print(quarter[:7])"
   ]
  },
  {
   "cell_type": "markdown",
   "id": "5a705fe1",
   "metadata": {},
   "source": [
    "040"
   ]
  },
  {
   "cell_type": "code",
   "execution_count": 52,
   "id": "545251c3",
   "metadata": {},
   "outputs": [
    {
     "name": "stdout",
     "output_type": "stream",
     "text": [
      "삼성전자\n"
     ]
    }
   ],
   "source": [
    "data = \"   삼성전자    \"\n",
    "print(data.strip())"
   ]
  },
  {
   "cell_type": "markdown",
   "id": "ebab3057",
   "metadata": {},
   "source": [
    "041"
   ]
  },
  {
   "cell_type": "code",
   "execution_count": 53,
   "id": "282363a9",
   "metadata": {},
   "outputs": [
    {
     "name": "stdout",
     "output_type": "stream",
     "text": [
      "BTC_KRW\n"
     ]
    }
   ],
   "source": [
    "ticker = \"btc_krw\"\n",
    "print(ticker.upper())"
   ]
  },
  {
   "cell_type": "markdown",
   "id": "56f64eff",
   "metadata": {},
   "source": [
    "042"
   ]
  },
  {
   "cell_type": "code",
   "execution_count": 55,
   "id": "a21faa9e",
   "metadata": {},
   "outputs": [
    {
     "name": "stdout",
     "output_type": "stream",
     "text": [
      "btc_krw\n"
     ]
    }
   ],
   "source": [
    "ticker = \"BTC_KRW\"\n",
    "print(ticker.lower())"
   ]
  },
  {
   "cell_type": "markdown",
   "id": "6e2afa59",
   "metadata": {},
   "source": [
    "043"
   ]
  },
  {
   "cell_type": "code",
   "execution_count": 56,
   "id": "47e54ed9",
   "metadata": {},
   "outputs": [
    {
     "name": "stdout",
     "output_type": "stream",
     "text": [
      "Hello\n"
     ]
    }
   ],
   "source": [
    "print(\"hello\".capitalize())"
   ]
  },
  {
   "cell_type": "markdown",
   "id": "0436d3c8",
   "metadata": {},
   "source": [
    "044"
   ]
  },
  {
   "cell_type": "code",
   "execution_count": 57,
   "id": "234bd2bd",
   "metadata": {},
   "outputs": [
    {
     "name": "stdout",
     "output_type": "stream",
     "text": [
      "True\n"
     ]
    }
   ],
   "source": [
    "file_name = \"보고서.xlsx\"\n",
    "print(file_name.endswith(\"xlsx\"))"
   ]
  },
  {
   "cell_type": "markdown",
   "id": "b5fb989f",
   "metadata": {},
   "source": [
    "045"
   ]
  },
  {
   "cell_type": "code",
   "execution_count": 59,
   "id": "e2494b4b",
   "metadata": {},
   "outputs": [
    {
     "name": "stdout",
     "output_type": "stream",
     "text": [
      "True\n"
     ]
    }
   ],
   "source": [
    "file_name = \"보고서.xlsx\"\n",
    "print(file_name.endswith((\"xlsx\", \"xls\")))"
   ]
  },
  {
   "cell_type": "markdown",
   "id": "5f2664a5",
   "metadata": {},
   "source": [
    "046"
   ]
  },
  {
   "cell_type": "code",
   "execution_count": 60,
   "id": "926767a5",
   "metadata": {},
   "outputs": [
    {
     "name": "stdout",
     "output_type": "stream",
     "text": [
      "True\n"
     ]
    }
   ],
   "source": [
    "file_name = \"2020_보고서.xlsx\"\n",
    "print(file_name.startswith(\"2020\"))"
   ]
  },
  {
   "cell_type": "markdown",
   "id": "2045eed8",
   "metadata": {},
   "source": [
    "047"
   ]
  },
  {
   "cell_type": "code",
   "execution_count": 62,
   "id": "10d88a17",
   "metadata": {},
   "outputs": [
    {
     "name": "stdout",
     "output_type": "stream",
     "text": [
      "['hello', 'world']\n"
     ]
    }
   ],
   "source": [
    "a = \"hello world\"\n",
    "print(a.split())"
   ]
  },
  {
   "cell_type": "markdown",
   "id": "ac3251c8",
   "metadata": {},
   "source": [
    "048"
   ]
  },
  {
   "cell_type": "code",
   "execution_count": 66,
   "id": "2fd4b1e6",
   "metadata": {},
   "outputs": [
    {
     "name": "stdout",
     "output_type": "stream",
     "text": [
      "['btc', 'krw']\n"
     ]
    }
   ],
   "source": [
    "ticker = \"btc_krw\"\n",
    "print(ticker.split(\"_\"))"
   ]
  },
  {
   "cell_type": "markdown",
   "id": "859368fe",
   "metadata": {},
   "source": [
    "049"
   ]
  },
  {
   "cell_type": "code",
   "execution_count": 65,
   "id": "e197f651",
   "metadata": {},
   "outputs": [
    {
     "name": "stdout",
     "output_type": "stream",
     "text": [
      "['2020', '05', '01']\n"
     ]
    }
   ],
   "source": [
    "date = \"2020-05-01\"\n",
    "print(date.split(\"-\"))"
   ]
  },
  {
   "cell_type": "markdown",
   "id": "3f1f0b72",
   "metadata": {},
   "source": [
    "050"
   ]
  },
  {
   "cell_type": "code",
   "execution_count": 67,
   "id": "4e02a574",
   "metadata": {},
   "outputs": [
    {
     "name": "stdout",
     "output_type": "stream",
     "text": [
      "['039490']\n"
     ]
    }
   ],
   "source": [
    "data = \"039490     \"\n",
    "print(data.rsplit())"
   ]
  }
 ],
 "metadata": {
  "kernelspec": {
   "display_name": "Python 3 (ipykernel)",
   "language": "python",
   "name": "python3"
  },
  "language_info": {
   "codemirror_mode": {
    "name": "ipython",
    "version": 3
   },
   "file_extension": ".py",
   "mimetype": "text/x-python",
   "name": "python",
   "nbconvert_exporter": "python",
   "pygments_lexer": "ipython3",
   "version": "3.11.7"
  },
  "toc": {
   "base_numbering": 1,
   "nav_menu": {},
   "number_sections": true,
   "sideBar": true,
   "skip_h1_title": false,
   "title_cell": "Table of Contents",
   "title_sidebar": "Contents",
   "toc_cell": false,
   "toc_position": {},
   "toc_section_display": true,
   "toc_window_display": false
  }
 },
 "nbformat": 4,
 "nbformat_minor": 5
}
