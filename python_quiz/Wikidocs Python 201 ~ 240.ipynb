{
 "cells": [
  {
   "cell_type": "markdown",
   "id": "3727d95c",
   "metadata": {},
   "source": [
    "201"
   ]
  },
  {
   "cell_type": "code",
   "execution_count": 1,
   "id": "2534fb89",
   "metadata": {},
   "outputs": [],
   "source": [
    "def print_coin():\n",
    "    print(\"비트코인\")"
   ]
  },
  {
   "cell_type": "markdown",
   "id": "355cdc4d",
   "metadata": {},
   "source": [
    "202"
   ]
  },
  {
   "cell_type": "code",
   "execution_count": 2,
   "id": "53508516",
   "metadata": {},
   "outputs": [
    {
     "name": "stdout",
     "output_type": "stream",
     "text": [
      "비트코인\n"
     ]
    }
   ],
   "source": [
    "print_coin()"
   ]
  },
  {
   "cell_type": "markdown",
   "id": "dd01ce36",
   "metadata": {},
   "source": [
    "203"
   ]
  },
  {
   "cell_type": "code",
   "execution_count": null,
   "id": "65ecafce",
   "metadata": {},
   "outputs": [],
   "source": [
    "for i in range(100):\n",
    "    print_coin()"
   ]
  },
  {
   "cell_type": "markdown",
   "id": "c00892e9",
   "metadata": {},
   "source": [
    "204"
   ]
  },
  {
   "cell_type": "code",
   "execution_count": null,
   "id": "76b4eccf",
   "metadata": {},
   "outputs": [],
   "source": [
    "def print_coins():\n",
    "    for i in range(100):\n",
    "        print(\"비트코인\")"
   ]
  },
  {
   "cell_type": "markdown",
   "id": "33d3d0be",
   "metadata": {},
   "source": [
    "205"
   ]
  },
  {
   "cell_type": "code",
   "execution_count": null,
   "id": "624f5831",
   "metadata": {},
   "outputs": [],
   "source": [
    "hello() # 함수가 정의되기 전에 호출 -> Error\n",
    "def hello():\n",
    "    print(\"Hi\")"
   ]
  },
  {
   "cell_type": "markdown",
   "id": "7ba6d7f7",
   "metadata": {},
   "source": [
    "206"
   ]
  },
  {
   "cell_type": "code",
   "execution_count": 4,
   "id": "c81de984",
   "metadata": {},
   "outputs": [
    {
     "name": "stdout",
     "output_type": "stream",
     "text": [
      "A\n",
      "B\n",
      "C\n",
      "A\n",
      "B\n"
     ]
    }
   ],
   "source": [
    "def message() :\n",
    "    print(\"A\")\n",
    "    print(\"B\")\n",
    "\n",
    "message()\n",
    "print(\"C\")\n",
    "message()"
   ]
  },
  {
   "cell_type": "markdown",
   "id": "f952327b",
   "metadata": {},
   "source": [
    "207"
   ]
  },
  {
   "cell_type": "code",
   "execution_count": 5,
   "id": "2e177f64",
   "metadata": {},
   "outputs": [
    {
     "name": "stdout",
     "output_type": "stream",
     "text": [
      "A\n",
      "C\n",
      "B\n"
     ]
    }
   ],
   "source": [
    "print(\"A\")\n",
    "\n",
    "def message() :\n",
    "    print(\"B\")\n",
    "\n",
    "print(\"C\")\n",
    "message()"
   ]
  },
  {
   "cell_type": "markdown",
   "id": "29c727d3",
   "metadata": {},
   "source": [
    "208"
   ]
  },
  {
   "cell_type": "code",
   "execution_count": 6,
   "id": "01c22639",
   "metadata": {},
   "outputs": [
    {
     "name": "stdout",
     "output_type": "stream",
     "text": [
      "A\n",
      "C\n",
      "B\n",
      "E\n",
      "D\n"
     ]
    }
   ],
   "source": [
    "print(\"A\")\n",
    "def message1() :\n",
    "    print(\"B\")\n",
    "print(\"C\")\n",
    "def message2() :\n",
    "    print(\"D\")\n",
    "message1()\n",
    "print(\"E\")\n",
    "message2()"
   ]
  },
  {
   "cell_type": "markdown",
   "id": "f24d1df7",
   "metadata": {},
   "source": [
    "209"
   ]
  },
  {
   "cell_type": "code",
   "execution_count": 7,
   "id": "d80d26e3",
   "metadata": {},
   "outputs": [
    {
     "name": "stdout",
     "output_type": "stream",
     "text": [
      "B\n",
      "A\n"
     ]
    }
   ],
   "source": [
    "def message1():\n",
    "    print(\"A\")\n",
    "\n",
    "def message2():\n",
    "    print(\"B\")\n",
    "    message1()\n",
    "\n",
    "message2()"
   ]
  },
  {
   "cell_type": "markdown",
   "id": "ce5d4e01",
   "metadata": {},
   "source": [
    "210"
   ]
  },
  {
   "cell_type": "code",
   "execution_count": 8,
   "id": "d13d3cb6",
   "metadata": {},
   "outputs": [
    {
     "name": "stdout",
     "output_type": "stream",
     "text": [
      "B\n",
      "C\n",
      "B\n",
      "C\n",
      "B\n",
      "C\n",
      "A\n"
     ]
    }
   ],
   "source": [
    "def message1():\n",
    "    print(\"A\")\n",
    "\n",
    "def message2():\n",
    "    print(\"B\")\n",
    "\n",
    "def message3():\n",
    "    for i in range (3) :\n",
    "        message2()\n",
    "        print(\"C\")\n",
    "    message1()\n",
    "\n",
    "message3()"
   ]
  },
  {
   "cell_type": "markdown",
   "id": "08bfa6db",
   "metadata": {},
   "source": [
    "211"
   ]
  },
  {
   "cell_type": "code",
   "execution_count": 9,
   "id": "f858e3ae",
   "metadata": {},
   "outputs": [
    {
     "name": "stdout",
     "output_type": "stream",
     "text": [
      "안녕\n",
      "Hi\n"
     ]
    }
   ],
   "source": [
    "def 함수(문자열) :\n",
    "    print(문자열)\n",
    "\n",
    "함수(\"안녕\")\n",
    "함수(\"Hi\")"
   ]
  },
  {
   "cell_type": "markdown",
   "id": "d6ee7909",
   "metadata": {},
   "source": [
    "212"
   ]
  },
  {
   "cell_type": "code",
   "execution_count": 10,
   "id": "7d60e684",
   "metadata": {},
   "outputs": [
    {
     "name": "stdout",
     "output_type": "stream",
     "text": [
      "7\n",
      "15\n"
     ]
    }
   ],
   "source": [
    "def 함수(a, b) :\n",
    "    print(a + b)\n",
    "\n",
    "함수(3, 4)\n",
    "함수(7, 8)"
   ]
  },
  {
   "cell_type": "markdown",
   "id": "469edb61",
   "metadata": {},
   "source": [
    "213"
   ]
  },
  {
   "cell_type": "code",
   "execution_count": null,
   "id": "2eb34669",
   "metadata": {},
   "outputs": [],
   "source": [
    "def 함수(문자열) :\n",
    "    print(문자열)\n",
    "함수() # 함수를 정의와 다르게 호출 -> Error"
   ]
  },
  {
   "cell_type": "markdown",
   "id": "ecebb463",
   "metadata": {},
   "source": [
    "214"
   ]
  },
  {
   "cell_type": "code",
   "execution_count": null,
   "id": "b3c5681b",
   "metadata": {},
   "outputs": [],
   "source": [
    "def 함수(a, b) :\n",
    "    print(a + b)\n",
    "\n",
    "함수(\"안녕\", 3) # 자료형이 다르면 연산을 수행할 수 없음"
   ]
  },
  {
   "cell_type": "markdown",
   "id": "bdfa3bc0",
   "metadata": {},
   "source": [
    "215"
   ]
  },
  {
   "cell_type": "code",
   "execution_count": 15,
   "id": "a5171b89",
   "metadata": {},
   "outputs": [
    {
     "name": "stdout",
     "output_type": "stream",
     "text": [
      "h:D\n"
     ]
    }
   ],
   "source": [
    "def print_with_smile(문자):\n",
    "    print(문자 + \":D\")\n",
    "    \n",
    "print_with_smile(\"h\")"
   ]
  },
  {
   "cell_type": "markdown",
   "id": "22445318",
   "metadata": {},
   "source": [
    "216"
   ]
  },
  {
   "cell_type": "code",
   "execution_count": 2,
   "id": "53731b35",
   "metadata": {},
   "outputs": [
    {
     "name": "stdout",
     "output_type": "stream",
     "text": [
      "안녕하세요:D\n"
     ]
    }
   ],
   "source": [
    "def print_with_smile(문자):\n",
    "    print(문자 + \":D\")\n",
    "    \n",
    "print_with_smile(\"안녕하세요\")"
   ]
  },
  {
   "cell_type": "markdown",
   "id": "54802732",
   "metadata": {},
   "source": [
    "217"
   ]
  },
  {
   "cell_type": "code",
   "execution_count": 4,
   "id": "03bd7ca4",
   "metadata": {},
   "outputs": [
    {
     "name": "stdout",
     "output_type": "stream",
     "text": [
      "1300.0\n"
     ]
    }
   ],
   "source": [
    "def print_upper_price(price):\n",
    "    print(price * 1.3)\n",
    "    \n",
    "print_upper_price(1000)"
   ]
  },
  {
   "cell_type": "markdown",
   "id": "a5fe2a05",
   "metadata": {},
   "source": [
    "218"
   ]
  },
  {
   "cell_type": "code",
   "execution_count": 5,
   "id": "af816b37",
   "metadata": {},
   "outputs": [
    {
     "name": "stdout",
     "output_type": "stream",
     "text": [
      "3\n"
     ]
    }
   ],
   "source": [
    "def print_sum(num1, num2):\n",
    "    print(num1 + num2)\n",
    "    \n",
    "print_sum(1, 2)"
   ]
  },
  {
   "cell_type": "markdown",
   "id": "fc2811c5",
   "metadata": {},
   "source": [
    "219"
   ]
  },
  {
   "cell_type": "code",
   "execution_count": 6,
   "id": "b3fe8c88",
   "metadata": {},
   "outputs": [
    {
     "name": "stdout",
     "output_type": "stream",
     "text": [
      "6 + 2  = 8\n",
      "6 - 2  = 4\n",
      "6 * 2  = 12\n",
      "6 / 2  = 3.0\n"
     ]
    }
   ],
   "source": [
    "def print_arithmatic_operation(num1, num2):\n",
    "    print(f\"{num1} + {num2}  = {num1 + num2}\")\n",
    "    print(f\"{num1} - {num2}  = {num1 - num2}\")\n",
    "    print(f\"{num1} * {num2}  = {num1 * num2}\")\n",
    "    print(f\"{num1} / {num2}  = {num1 / num2}\")\n",
    "\n",
    "print_arithmatic_operation(6, 2)"
   ]
  },
  {
   "cell_type": "markdown",
   "id": "d8116162",
   "metadata": {},
   "source": [
    "220"
   ]
  },
  {
   "cell_type": "code",
   "execution_count": 8,
   "id": "7a37275c",
   "metadata": {},
   "outputs": [
    {
     "name": "stdout",
     "output_type": "stream",
     "text": [
      "3\n"
     ]
    }
   ],
   "source": [
    "def print_max(num1, num2, num3):\n",
    "    max = 0\n",
    "    if num1 > max:\n",
    "        max = num1\n",
    "    if num2 > max:\n",
    "        max = num2\n",
    "    if num3 > max:\n",
    "        max = num3\n",
    "    print(max)\n",
    "\n",
    "print_max(1, 2, 3)"
   ]
  },
  {
   "cell_type": "markdown",
   "id": "5ffd3d61",
   "metadata": {},
   "source": [
    "221"
   ]
  },
  {
   "cell_type": "code",
   "execution_count": 10,
   "id": "37b49d4d",
   "metadata": {},
   "outputs": [
    {
     "name": "stdout",
     "output_type": "stream",
     "text": [
      "olleh\n"
     ]
    }
   ],
   "source": [
    "def print_reverse(str):\n",
    "    print(str[::-1])\n",
    "    \n",
    "print_reverse(\"hello\")"
   ]
  },
  {
   "cell_type": "markdown",
   "id": "23765944",
   "metadata": {},
   "source": [
    "222"
   ]
  },
  {
   "cell_type": "code",
   "execution_count": 11,
   "id": "86460b32",
   "metadata": {},
   "outputs": [
    {
     "name": "stdout",
     "output_type": "stream",
     "text": [
      "3.0\n"
     ]
    }
   ],
   "source": [
    "def print_score(list):\n",
    "    print(sum(list) / len(list))\n",
    "\n",
    "print_score([1, 2, 3, 4, 5])"
   ]
  },
  {
   "cell_type": "markdown",
   "id": "e6868499",
   "metadata": {},
   "source": [
    "223"
   ]
  },
  {
   "cell_type": "code",
   "execution_count": 12,
   "id": "4998dfba",
   "metadata": {},
   "outputs": [
    {
     "name": "stdout",
     "output_type": "stream",
     "text": [
      "4\n",
      "6\n",
      "100\n"
     ]
    }
   ],
   "source": [
    "def print_even(list):\n",
    "    for i in list:\n",
    "        if i % 2 == 0:\n",
    "            print(i)\n",
    "            \n",
    "print_even([1, 23, 4, 5, 6, 100])"
   ]
  },
  {
   "cell_type": "markdown",
   "id": "fa52d4e0",
   "metadata": {},
   "source": [
    "224"
   ]
  },
  {
   "cell_type": "code",
   "execution_count": 14,
   "id": "78246bfe",
   "metadata": {},
   "outputs": [
    {
     "name": "stdout",
     "output_type": "stream",
     "text": [
      "키\n",
      "손잡이\n"
     ]
    }
   ],
   "source": [
    "def print_keys(dic):\n",
    "    for k in dic.keys():\n",
    "        print(k)\n",
    "\n",
    "print_keys({\"키\":\"쇠\", \"손잡이\":\"플라스틱\"})"
   ]
  },
  {
   "cell_type": "markdown",
   "id": "741cc2d2",
   "metadata": {},
   "source": [
    "225"
   ]
  },
  {
   "cell_type": "code",
   "execution_count": 15,
   "id": "9227404a",
   "metadata": {},
   "outputs": [
    {
     "name": "stdout",
     "output_type": "stream",
     "text": [
      "[100, 130, 100, 100]\n"
     ]
    }
   ],
   "source": [
    "my_dict = {\"10/26\" : [100, 130, 100, 100],\n",
    "           \"10/27\" : [10, 12, 10, 11]}\n",
    "\n",
    "def print_value_by_key(dic, date):\n",
    "    print(dic[date])\n",
    "    \n",
    "print_value_by_key(my_dict, \"10/26\")"
   ]
  },
  {
   "cell_type": "markdown",
   "id": "f87a1c9f",
   "metadata": {},
   "source": [
    "226"
   ]
  },
  {
   "cell_type": "code",
   "execution_count": 18,
   "id": "6190262f",
   "metadata": {},
   "outputs": [
    {
     "name": "stdout",
     "output_type": "stream",
     "text": [
      "아야어여오\n",
      "요유유\n"
     ]
    }
   ],
   "source": [
    "def print_5xn(str):\n",
    "    for i in range(0, len(str), 5):\n",
    "        print(str[i:i + 5])\n",
    "    \n",
    "print_5xn(\"아야어여오요유유\")"
   ]
  },
  {
   "cell_type": "markdown",
   "id": "ab2fee03",
   "metadata": {},
   "source": [
    "227"
   ]
  },
  {
   "cell_type": "code",
   "execution_count": 23,
   "id": "2ca3d62c",
   "metadata": {},
   "outputs": [
    {
     "name": "stdout",
     "output_type": "stream",
     "text": [
      "가나다라\n",
      "마바사과\n",
      "아자아자\n"
     ]
    }
   ],
   "source": [
    "def print_mxn(str, cnt):\n",
    "    for i in range(0, len(str), cnt):\n",
    "        print(str[i:i + cnt])\n",
    "        \n",
    "print_mxn(\"가나다라마바사과아자아자\", 4)"
   ]
  },
  {
   "cell_type": "markdown",
   "id": "cc395e86",
   "metadata": {},
   "source": [
    "228"
   ]
  },
  {
   "cell_type": "code",
   "execution_count": 25,
   "id": "3f229882",
   "metadata": {},
   "outputs": [
    {
     "name": "stdout",
     "output_type": "stream",
     "text": [
      "8333333\n"
     ]
    }
   ],
   "source": [
    "def calc_monthly_salary(annual_salary):\n",
    "    monthly_pay = int(annual_salary / 12)\n",
    "    return monthly_pay\n",
    "\n",
    "monthly_pay = calc_monthly_salary(100000000)\n",
    "print(monthly_pay)"
   ]
  },
  {
   "cell_type": "markdown",
   "id": "852883b1",
   "metadata": {},
   "source": [
    "229"
   ]
  },
  {
   "cell_type": "code",
   "execution_count": 26,
   "id": "8aec5ab4",
   "metadata": {},
   "outputs": [
    {
     "name": "stdout",
     "output_type": "stream",
     "text": [
      "왼쪽: 100\n",
      "오른쪽: 200\n"
     ]
    }
   ],
   "source": [
    "def my_print (a, b) :\n",
    "    print(\"왼쪽:\", a)\n",
    "    print(\"오른쪽:\", b)\n",
    "\n",
    "my_print(a=100, b=200)"
   ]
  },
  {
   "cell_type": "markdown",
   "id": "dff5f0a1",
   "metadata": {},
   "source": [
    "230"
   ]
  },
  {
   "cell_type": "code",
   "execution_count": 28,
   "id": "d76819af",
   "metadata": {},
   "outputs": [
    {
     "name": "stdout",
     "output_type": "stream",
     "text": [
      "왼쪽: 200\n",
      "오른쪽: 100\n"
     ]
    }
   ],
   "source": [
    "def my_print (a, b) :\n",
    "    print(\"왼쪽:\", a)\n",
    "    print(\"오른쪽:\", b)\n",
    "\n",
    "my_print(b=100, a=200)"
   ]
  },
  {
   "cell_type": "markdown",
   "id": "07ae0bf1",
   "metadata": {},
   "source": [
    "231"
   ]
  },
  {
   "cell_type": "code",
   "execution_count": null,
   "id": "3b2863ed",
   "metadata": {},
   "outputs": [],
   "source": [
    "def n_plus_1 (n) :\n",
    "    result = n + 1\n",
    "\n",
    "n_plus_1(3)\n",
    "print (result) # result 변수가 정의되지 않음 -> Error 발생"
   ]
  },
  {
   "cell_type": "markdown",
   "id": "6f5da850",
   "metadata": {},
   "source": [
    "232"
   ]
  },
  {
   "cell_type": "code",
   "execution_count": 32,
   "id": "df9fa557",
   "metadata": {},
   "outputs": [
    {
     "name": "stdout",
     "output_type": "stream",
     "text": [
      "www.naver.com\n"
     ]
    }
   ],
   "source": [
    "def make_url(str):\n",
    "    url = \"www.\" + str + \".com\"\n",
    "    return url\n",
    "\n",
    "naver = make_url(\"naver\")\n",
    "print(naver)"
   ]
  },
  {
   "cell_type": "markdown",
   "id": "5fc6dda5",
   "metadata": {},
   "source": [
    "233"
   ]
  },
  {
   "cell_type": "code",
   "execution_count": 36,
   "id": "3a461439",
   "metadata": {},
   "outputs": [
    {
     "name": "stdout",
     "output_type": "stream",
     "text": [
      "['세', '종', '대', '왕']\n"
     ]
    }
   ],
   "source": [
    "def make_list(list):\n",
    "    my_list = []\n",
    "    for i in list:\n",
    "        my_list.append(i)\n",
    "    return my_list\n",
    "\n",
    "list = make_list(\"세종대왕\")\n",
    "print(list)"
   ]
  },
  {
   "cell_type": "markdown",
   "id": "b0a74268",
   "metadata": {},
   "source": [
    "234"
   ]
  },
  {
   "cell_type": "code",
   "execution_count": 37,
   "id": "94312ad3",
   "metadata": {},
   "outputs": [
    {
     "name": "stdout",
     "output_type": "stream",
     "text": [
      "[4, 6, 8]\n"
     ]
    }
   ],
   "source": [
    "def pickup_even(list):\n",
    "    my_list = []\n",
    "    for i in list:\n",
    "        if i % 2 == 0:\n",
    "            my_list.append(i)\n",
    "    return my_list\n",
    "\n",
    "list = pickup_even([3, 4, 5, 6, 7, 8])\n",
    "print(list)"
   ]
  },
  {
   "cell_type": "markdown",
   "id": "c2b2bd8c",
   "metadata": {},
   "source": [
    "235 "
   ]
  },
  {
   "cell_type": "code",
   "execution_count": 42,
   "id": "83c0c940",
   "metadata": {},
   "outputs": [
    {
     "name": "stdout",
     "output_type": "stream",
     "text": [
      "4215000\n"
     ]
    }
   ],
   "source": [
    "def convert_int(str):\n",
    "    return int(str.replace(',', ''))\n",
    "\n",
    "i = convert_int(\"4,215,000\")\n",
    "print(i)"
   ]
  },
  {
   "cell_type": "markdown",
   "id": "580df778",
   "metadata": {},
   "source": [
    "236"
   ]
  },
  {
   "cell_type": "code",
   "execution_count": 43,
   "id": "e4db58b8",
   "metadata": {},
   "outputs": [
    {
     "name": "stdout",
     "output_type": "stream",
     "text": [
      "22\n"
     ]
    }
   ],
   "source": [
    "def 함수(num) :\n",
    "    return num + 4\n",
    "\n",
    "a = 함수(10)\n",
    "b = 함수(a)\n",
    "c = 함수(b)\n",
    "print(c)"
   ]
  },
  {
   "cell_type": "markdown",
   "id": "83ebbf28",
   "metadata": {},
   "source": [
    "237 "
   ]
  },
  {
   "cell_type": "code",
   "execution_count": 44,
   "id": "7cbec89b",
   "metadata": {},
   "outputs": [
    {
     "name": "stdout",
     "output_type": "stream",
     "text": [
      "22\n"
     ]
    }
   ],
   "source": [
    "def 함수(num) :\n",
    "    return num + 4\n",
    "\n",
    "c = 함수(함수(함수(10)))\n",
    "print(c)"
   ]
  },
  {
   "cell_type": "markdown",
   "id": "f4f9f898",
   "metadata": {},
   "source": [
    "238"
   ]
  },
  {
   "cell_type": "code",
   "execution_count": 45,
   "id": "4211e4d1",
   "metadata": {},
   "outputs": [
    {
     "name": "stdout",
     "output_type": "stream",
     "text": [
      "140\n"
     ]
    }
   ],
   "source": [
    "def 함수1(num) :\n",
    "    return num + 4\n",
    "\n",
    "def 함수2(num) :\n",
    "    return num * 10\n",
    "\n",
    "a = 함수1(10)\n",
    "c = 함수2(a)\n",
    "print(c)"
   ]
  },
  {
   "cell_type": "markdown",
   "id": "ebfe29be",
   "metadata": {},
   "source": [
    "239 "
   ]
  },
  {
   "cell_type": "code",
   "execution_count": 46,
   "id": "9969c66e",
   "metadata": {},
   "outputs": [
    {
     "name": "stdout",
     "output_type": "stream",
     "text": [
      "16\n"
     ]
    }
   ],
   "source": [
    "def 함수1(num) :\n",
    "    return num + 4\n",
    "\n",
    "def 함수2(num) :\n",
    "    num = num + 2\n",
    "    return 함수1(num)\n",
    "\n",
    "c = 함수2(10)\n",
    "print(c)"
   ]
  },
  {
   "cell_type": "markdown",
   "id": "d8c916ef",
   "metadata": {},
   "source": [
    "240 "
   ]
  },
  {
   "cell_type": "code",
   "execution_count": 47,
   "id": "6d63d359",
   "metadata": {},
   "outputs": [
    {
     "name": "stdout",
     "output_type": "stream",
     "text": [
      "28\n"
     ]
    }
   ],
   "source": [
    "def 함수0(num) :\n",
    "    return num * 2\n",
    "\n",
    "def 함수1(num) :\n",
    "    return 함수0(num + 2)\n",
    "\n",
    "def 함수2(num) :\n",
    "    num = num + 10\n",
    "    return 함수1(num)\n",
    "\n",
    "c = 함수2(2)\n",
    "print(c)"
   ]
  }
 ],
 "metadata": {
  "kernelspec": {
   "display_name": "Python 3 (ipykernel)",
   "language": "python",
   "name": "python3"
  },
  "language_info": {
   "codemirror_mode": {
    "name": "ipython",
    "version": 3
   },
   "file_extension": ".py",
   "mimetype": "text/x-python",
   "name": "python",
   "nbconvert_exporter": "python",
   "pygments_lexer": "ipython3",
   "version": "3.11.7"
  },
  "toc": {
   "base_numbering": 1,
   "nav_menu": {},
   "number_sections": true,
   "sideBar": true,
   "skip_h1_title": false,
   "title_cell": "Table of Contents",
   "title_sidebar": "Contents",
   "toc_cell": false,
   "toc_position": {},
   "toc_section_display": true,
   "toc_window_display": false
  }
 },
 "nbformat": 4,
 "nbformat_minor": 5
}
