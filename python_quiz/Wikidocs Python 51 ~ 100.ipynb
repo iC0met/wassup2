{
 "cells": [
  {
   "cell_type": "markdown",
   "id": "4fb73020",
   "metadata": {},
   "source": [
    "051"
   ]
  },
  {
   "cell_type": "code",
   "execution_count": 1,
   "id": "c5859f56",
   "metadata": {},
   "outputs": [],
   "source": [
    "movie_rank = [\"닥터 스트레인지\", \"스플릿\", \"럭키\"]"
   ]
  },
  {
   "cell_type": "markdown",
   "id": "d5cc0a4d",
   "metadata": {},
   "source": [
    "052"
   ]
  },
  {
   "cell_type": "code",
   "execution_count": 3,
   "id": "b1f7c315",
   "metadata": {},
   "outputs": [
    {
     "name": "stdout",
     "output_type": "stream",
     "text": [
      "['닥터 스트레인지', '스플릿', '럭키', '배트맨']\n"
     ]
    }
   ],
   "source": [
    "movie_rank = [\"닥터 스트레인지\", \"스플릿\", \"럭키\"]\n",
    "movie_rank.append(\"배트맨\")\n",
    "print(movie_rank)"
   ]
  },
  {
   "cell_type": "markdown",
   "id": "ddb76362",
   "metadata": {},
   "source": [
    "053"
   ]
  },
  {
   "cell_type": "code",
   "execution_count": 4,
   "id": "5238deaf",
   "metadata": {},
   "outputs": [
    {
     "name": "stdout",
     "output_type": "stream",
     "text": [
      "['닥터 스트레인지', '슈퍼맨', '스플릿', '럭키', '배트맨']\n"
     ]
    }
   ],
   "source": [
    "movie_rank = [\"닥터 스트레인지\", \"스플릿\", \"럭키\", \"배트맨\"]\n",
    "movie_rank.insert(1, \"슈퍼맨\")\n",
    "print(movie_rank)"
   ]
  },
  {
   "cell_type": "markdown",
   "id": "85b58f33",
   "metadata": {},
   "source": [
    "054"
   ]
  },
  {
   "cell_type": "code",
   "execution_count": 5,
   "id": "cc6d9d9c",
   "metadata": {},
   "outputs": [
    {
     "name": "stdout",
     "output_type": "stream",
     "text": [
      "['닥터 스트레인지', '슈퍼맨', '스플릿', '배트맨']\n"
     ]
    }
   ],
   "source": [
    "movie_rank = ['닥터 스트레인지', '슈퍼맨', '스플릿', '럭키', '배트맨']\n",
    "movie_rank.remove(\"럭키\")\n",
    "print(movie_rank)"
   ]
  },
  {
   "cell_type": "markdown",
   "id": "32cd6927",
   "metadata": {},
   "source": [
    "055"
   ]
  },
  {
   "cell_type": "code",
   "execution_count": 7,
   "id": "c38b896c",
   "metadata": {},
   "outputs": [
    {
     "name": "stdout",
     "output_type": "stream",
     "text": [
      "['닥터 스트레인지', '슈퍼맨']\n"
     ]
    }
   ],
   "source": [
    "movie_rank = ['닥터 스트레인지', '슈퍼맨', '스플릿', '배트맨']\n",
    "movie_rank.remove(\"스플릿\")\n",
    "movie_rank.remove(\"배트맨\")\n",
    "print(movie_rank)"
   ]
  },
  {
   "cell_type": "markdown",
   "id": "9c8f7de5",
   "metadata": {},
   "source": [
    "056"
   ]
  },
  {
   "cell_type": "code",
   "execution_count": 9,
   "id": "1bb30482",
   "metadata": {},
   "outputs": [
    {
     "name": "stdout",
     "output_type": "stream",
     "text": [
      "['C', 'C++', 'JAVA', 'Python', 'Go', 'C#']\n"
     ]
    }
   ],
   "source": [
    "lang1 = [\"C\", \"C++\", \"JAVA\"]\n",
    "lang2 = [\"Python\", \"Go\", \"C#\"]\n",
    "langs = lang1 + lang2\n",
    "print(langs)"
   ]
  },
  {
   "cell_type": "markdown",
   "id": "0dc04fb1",
   "metadata": {},
   "source": [
    "057"
   ]
  },
  {
   "cell_type": "code",
   "execution_count": 13,
   "id": "4c9385bb",
   "metadata": {},
   "outputs": [
    {
     "name": "stdout",
     "output_type": "stream",
     "text": [
      "max :  7\n",
      "min :  1\n"
     ]
    }
   ],
   "source": [
    "nums = [1, 2, 3, 4, 5, 6, 7]\n",
    "print(\"max : \", max(nums))\n",
    "print(\"min : \", min(nums))"
   ]
  },
  {
   "cell_type": "markdown",
   "id": "e87b7d48",
   "metadata": {},
   "source": [
    "058"
   ]
  },
  {
   "cell_type": "code",
   "execution_count": 14,
   "id": "c5cd5e5a",
   "metadata": {},
   "outputs": [
    {
     "name": "stdout",
     "output_type": "stream",
     "text": [
      "15\n"
     ]
    }
   ],
   "source": [
    "nums = [1, 2, 3, 4, 5]\n",
    "print(sum(nums))"
   ]
  },
  {
   "cell_type": "markdown",
   "id": "964c8960",
   "metadata": {},
   "source": [
    "059"
   ]
  },
  {
   "cell_type": "code",
   "execution_count": 15,
   "id": "3fef1300",
   "metadata": {},
   "outputs": [
    {
     "name": "stdout",
     "output_type": "stream",
     "text": [
      "12\n"
     ]
    }
   ],
   "source": [
    "cook = [\"피자\", \"김밥\", \"만두\", \"양념치킨\", \"족발\", \"피자\", \"김치만두\", \"쫄면\", \"소시지\", \"라면\", \"팥빙수\", \"김치전\"]\n",
    "print(len(cook))"
   ]
  },
  {
   "cell_type": "markdown",
   "id": "234f9f8a",
   "metadata": {},
   "source": [
    "060"
   ]
  },
  {
   "cell_type": "code",
   "execution_count": 16,
   "id": "82e27886",
   "metadata": {},
   "outputs": [
    {
     "name": "stdout",
     "output_type": "stream",
     "text": [
      "3.0\n"
     ]
    }
   ],
   "source": [
    "nums = [1, 2, 3, 4, 5]\n",
    "print(sum(nums) / len(nums))"
   ]
  },
  {
   "cell_type": "markdown",
   "id": "699832d7",
   "metadata": {},
   "source": [
    "061"
   ]
  },
  {
   "cell_type": "code",
   "execution_count": 17,
   "id": "1e3f11f7",
   "metadata": {},
   "outputs": [
    {
     "name": "stdout",
     "output_type": "stream",
     "text": [
      "[100, 130, 140, 150, 160, 170]\n"
     ]
    }
   ],
   "source": [
    "price = ['20180728', 100, 130, 140, 150, 160, 170]\n",
    "print(price[1:])"
   ]
  },
  {
   "cell_type": "markdown",
   "id": "c34732a4",
   "metadata": {},
   "source": [
    "062"
   ]
  },
  {
   "cell_type": "code",
   "execution_count": 21,
   "id": "81e9317a",
   "metadata": {},
   "outputs": [
    {
     "name": "stdout",
     "output_type": "stream",
     "text": [
      "[1, 3, 5, 7, 9]\n"
     ]
    }
   ],
   "source": [
    "nums = [1, 2, 3, 4, 5, 6, 7, 8, 9, 10]\n",
    "print(nums[::2])"
   ]
  },
  {
   "cell_type": "markdown",
   "id": "089f2329",
   "metadata": {},
   "source": [
    "063"
   ]
  },
  {
   "cell_type": "code",
   "execution_count": 22,
   "id": "3a30a20a",
   "metadata": {},
   "outputs": [
    {
     "name": "stdout",
     "output_type": "stream",
     "text": [
      "[2, 4, 6, 8, 10]\n"
     ]
    }
   ],
   "source": [
    "nums = [1, 2, 3, 4, 5, 6, 7, 8, 9, 10]\n",
    "print(nums[1::2])"
   ]
  },
  {
   "cell_type": "markdown",
   "id": "f075b706",
   "metadata": {},
   "source": [
    "064"
   ]
  },
  {
   "cell_type": "code",
   "execution_count": 23,
   "id": "dbc8bcec",
   "metadata": {},
   "outputs": [
    {
     "name": "stdout",
     "output_type": "stream",
     "text": [
      "[5, 4, 3, 2, 1]\n"
     ]
    }
   ],
   "source": [
    "nums = [1, 2, 3, 4, 5]\n",
    "print(nums[::-1])"
   ]
  },
  {
   "cell_type": "markdown",
   "id": "0c65fc46",
   "metadata": {},
   "source": [
    "065"
   ]
  },
  {
   "cell_type": "code",
   "execution_count": 24,
   "id": "178fc773",
   "metadata": {},
   "outputs": [
    {
     "name": "stdout",
     "output_type": "stream",
     "text": [
      "삼성전자 Naver\n"
     ]
    }
   ],
   "source": [
    "interest = ['삼성전자', 'LG전자', 'Naver']\n",
    "print(interest[0], interest[2])"
   ]
  },
  {
   "cell_type": "markdown",
   "id": "8128b5f4",
   "metadata": {},
   "source": [
    "066"
   ]
  },
  {
   "cell_type": "code",
   "execution_count": 26,
   "id": "77b8ef83",
   "metadata": {},
   "outputs": [
    {
     "name": "stdout",
     "output_type": "stream",
     "text": [
      "삼성전자 LG전자 Naver SK하이닉스 미래에셋대우\n"
     ]
    }
   ],
   "source": [
    "interest = ['삼성전자', 'LG전자', 'Naver', 'SK하이닉스', '미래에셋대우']\n",
    "print(\" \".join(interest))"
   ]
  },
  {
   "cell_type": "markdown",
   "id": "ee46a04e",
   "metadata": {},
   "source": [
    "067"
   ]
  },
  {
   "cell_type": "code",
   "execution_count": 28,
   "id": "7328feba",
   "metadata": {},
   "outputs": [
    {
     "name": "stdout",
     "output_type": "stream",
     "text": [
      "삼성전자/LG전자/Naver/SK하이닉스/미래에셋대우\n"
     ]
    }
   ],
   "source": [
    "interest = ['삼성전자', 'LG전자', 'Naver', 'SK하이닉스', '미래에셋대우']\n",
    "print(\"/\".join(interest))"
   ]
  },
  {
   "cell_type": "markdown",
   "id": "c5545cb7",
   "metadata": {},
   "source": [
    "068"
   ]
  },
  {
   "cell_type": "code",
   "execution_count": 29,
   "id": "97bec3d8",
   "metadata": {},
   "outputs": [
    {
     "name": "stdout",
     "output_type": "stream",
     "text": [
      "삼성전자\n",
      "LG전자\n",
      "Naver\n",
      "SK하이닉스\n",
      "미래에셋대우\n"
     ]
    }
   ],
   "source": [
    "interest = ['삼성전자', 'LG전자', 'Naver', 'SK하이닉스', '미래에셋대우']\n",
    "print(\"\\n\".join(interest))"
   ]
  },
  {
   "cell_type": "markdown",
   "id": "59cdd08b",
   "metadata": {},
   "source": [
    "069"
   ]
  },
  {
   "cell_type": "code",
   "execution_count": 30,
   "id": "7008b458",
   "metadata": {},
   "outputs": [
    {
     "name": "stdout",
     "output_type": "stream",
     "text": [
      "['삼성전자', 'LG전자', 'Naver']\n"
     ]
    }
   ],
   "source": [
    "string = \"삼성전자/LG전자/Naver\"\n",
    "interest = string.split(\"/\")\n",
    "print(interest)"
   ]
  },
  {
   "cell_type": "markdown",
   "id": "89cf9050",
   "metadata": {},
   "source": [
    "070"
   ]
  },
  {
   "cell_type": "code",
   "execution_count": 35,
   "id": "835d2cdb",
   "metadata": {},
   "outputs": [
    {
     "name": "stdout",
     "output_type": "stream",
     "text": [
      "[1, 2, 3, 4, 5, 9, 10]\n",
      "[1, 2, 3, 4, 5, 9, 10]\n"
     ]
    }
   ],
   "source": [
    "data = [2, 4, 3, 1, 5, 10, 9]\n",
    "data.sort()\n",
    "print(data)\n",
    "data2 = sorted(data, reverse=False)\n",
    "print(data2)"
   ]
  },
  {
   "cell_type": "markdown",
   "id": "94e26157",
   "metadata": {},
   "source": [
    "071"
   ]
  },
  {
   "cell_type": "code",
   "execution_count": 36,
   "id": "444fb60c",
   "metadata": {},
   "outputs": [
    {
     "name": "stdout",
     "output_type": "stream",
     "text": [
      "<class 'tuple'>\n"
     ]
    }
   ],
   "source": [
    "my_variable = ()\n",
    "print(type(my_variable))"
   ]
  },
  {
   "cell_type": "markdown",
   "id": "8eb92f59",
   "metadata": {},
   "source": [
    "072"
   ]
  },
  {
   "cell_type": "code",
   "execution_count": 37,
   "id": "d115a8b3",
   "metadata": {},
   "outputs": [],
   "source": [
    "movie_rank = (\"닥터 스트레인지\", \"스플릿\", \"럭키\")"
   ]
  },
  {
   "cell_type": "markdown",
   "id": "ef3ff3e0",
   "metadata": {},
   "source": [
    "073"
   ]
  },
  {
   "cell_type": "code",
   "execution_count": 38,
   "id": "537a1370",
   "metadata": {},
   "outputs": [
    {
     "name": "stdout",
     "output_type": "stream",
     "text": [
      "<class 'tuple'>\n"
     ]
    }
   ],
   "source": [
    "tu = (1,)\n",
    "print(type(tu))"
   ]
  },
  {
   "cell_type": "markdown",
   "id": "084f4910",
   "metadata": {},
   "source": [
    "074"
   ]
  },
  {
   "cell_type": "code",
   "execution_count": null,
   "id": "edd8e942",
   "metadata": {},
   "outputs": [],
   "source": [
    "t = (1, 2, 3) # tuple은 immutable\n",
    "t[0] = 'a' # error"
   ]
  },
  {
   "cell_type": "markdown",
   "id": "b9cd76e7",
   "metadata": {},
   "source": [
    "075"
   ]
  },
  {
   "cell_type": "code",
   "execution_count": 41,
   "id": "a4e8de27",
   "metadata": {},
   "outputs": [
    {
     "name": "stdout",
     "output_type": "stream",
     "text": [
      "<class 'tuple'>\n"
     ]
    }
   ],
   "source": [
    "t = 1, 2, 3, 4\n",
    "print(type(t))"
   ]
  },
  {
   "cell_type": "markdown",
   "id": "adba1b5f",
   "metadata": {},
   "source": [
    "076"
   ]
  },
  {
   "cell_type": "code",
   "execution_count": 42,
   "id": "37495871",
   "metadata": {},
   "outputs": [],
   "source": [
    "t = ('a', 'b', 'c')\n",
    "t = ('A', 'b', 'c')"
   ]
  },
  {
   "cell_type": "markdown",
   "id": "9b146f79",
   "metadata": {},
   "source": [
    "077"
   ]
  },
  {
   "cell_type": "code",
   "execution_count": 43,
   "id": "8427c78c",
   "metadata": {},
   "outputs": [],
   "source": [
    "interest = ('삼성전자', 'LG전자', 'SK Hynix')\n",
    "toLi = list(interest)"
   ]
  },
  {
   "cell_type": "markdown",
   "id": "411a8e7b",
   "metadata": {},
   "source": [
    "078"
   ]
  },
  {
   "cell_type": "code",
   "execution_count": 44,
   "id": "eed79c82",
   "metadata": {},
   "outputs": [],
   "source": [
    "interest = ['삼성전자', 'LG전자', 'SK Hynix']\n",
    "toTu = tuple(interest)"
   ]
  },
  {
   "cell_type": "markdown",
   "id": "0efc44ed",
   "metadata": {},
   "source": [
    "079"
   ]
  },
  {
   "cell_type": "code",
   "execution_count": 45,
   "id": "bd72246e",
   "metadata": {},
   "outputs": [
    {
     "name": "stdout",
     "output_type": "stream",
     "text": [
      "apple banana cake\n"
     ]
    }
   ],
   "source": [
    "temp = ('apple', 'banana', 'cake')\n",
    "a, b, c = temp # 튜플 언패킹\n",
    "print(a, b, c)"
   ]
  },
  {
   "cell_type": "markdown",
   "id": "552f593a",
   "metadata": {},
   "source": [
    "080"
   ]
  },
  {
   "cell_type": "code",
   "execution_count": 47,
   "id": "d4559e13",
   "metadata": {},
   "outputs": [
    {
     "name": "stdout",
     "output_type": "stream",
     "text": [
      "(2, 4, 6, 8, 10, 12, 14, 16, 18, 20, 22, 24, 26, 28, 30, 32, 34, 36, 38, 40, 42, 44, 46, 48, 50, 52, 54, 56, 58, 60, 62, 64, 66, 68, 70, 72, 74, 76, 78, 80, 82, 84, 86, 88, 90, 92, 94, 96, 98)\n"
     ]
    }
   ],
   "source": [
    "even = tuple(range(2, 100, 2))\n",
    "print(even)"
   ]
  },
  {
   "cell_type": "markdown",
   "id": "867609cb",
   "metadata": {},
   "source": [
    "081"
   ]
  },
  {
   "cell_type": "code",
   "execution_count": 48,
   "id": "249bac29",
   "metadata": {},
   "outputs": [
    {
     "name": "stdout",
     "output_type": "stream",
     "text": [
      "[8.8, 8.9, 8.7, 9.2, 9.3, 9.7, 9.9, 9.5]\n"
     ]
    }
   ],
   "source": [
    "scores = [8.8, 8.9, 8.7, 9.2, 9.3, 9.7, 9.9, 9.5, 7.8, 9.4]\n",
    "*valid_score, _, _ = scores\n",
    "print(valid_score)"
   ]
  },
  {
   "cell_type": "markdown",
   "id": "4d6d318c",
   "metadata": {},
   "source": [
    "082"
   ]
  },
  {
   "cell_type": "code",
   "execution_count": 49,
   "id": "65d43e81",
   "metadata": {},
   "outputs": [
    {
     "name": "stdout",
     "output_type": "stream",
     "text": [
      "[8.7, 9.2, 9.3, 9.7, 9.9, 9.5, 7.8, 9.4]\n"
     ]
    }
   ],
   "source": [
    "scores = [8.8, 8.9, 8.7, 9.2, 9.3, 9.7, 9.9, 9.5, 7.8, 9.4]\n",
    "_, _, *valid_score = scores\n",
    "print(valid_score)"
   ]
  },
  {
   "cell_type": "markdown",
   "id": "3599a2ff",
   "metadata": {},
   "source": [
    "083"
   ]
  },
  {
   "cell_type": "code",
   "execution_count": 50,
   "id": "9a680258",
   "metadata": {},
   "outputs": [
    {
     "name": "stdout",
     "output_type": "stream",
     "text": [
      "[8.9, 8.7, 9.2, 9.3, 9.7, 9.9, 9.5, 7.8]\n"
     ]
    }
   ],
   "source": [
    "scores = [8.8, 8.9, 8.7, 9.2, 9.3, 9.7, 9.9, 9.5, 7.8, 9.4]\n",
    "_, *valid_score, _  = scores\n",
    "print(valid_score)"
   ]
  },
  {
   "cell_type": "markdown",
   "id": "96a9f5fb",
   "metadata": {},
   "source": [
    "084"
   ]
  },
  {
   "cell_type": "code",
   "execution_count": 54,
   "id": "567fe24c",
   "metadata": {},
   "outputs": [],
   "source": [
    "temp = {}"
   ]
  },
  {
   "cell_type": "markdown",
   "id": "f14a9f4f",
   "metadata": {},
   "source": [
    "085"
   ]
  },
  {
   "cell_type": "code",
   "execution_count": 55,
   "id": "512efe0a",
   "metadata": {},
   "outputs": [
    {
     "name": "stdout",
     "output_type": "stream",
     "text": [
      "{'메로나': 1000, '폴라포': 1200, '빵빠레': 1800}\n"
     ]
    }
   ],
   "source": [
    "icecream = {\"메로나\": 1000, \"폴라포\": 1200, \"빵빠레\": 1800}\n",
    "print(icecream)"
   ]
  },
  {
   "cell_type": "markdown",
   "id": "3609cdbf",
   "metadata": {},
   "source": [
    "086"
   ]
  },
  {
   "cell_type": "code",
   "execution_count": 57,
   "id": "38f95ab5",
   "metadata": {},
   "outputs": [
    {
     "name": "stdout",
     "output_type": "stream",
     "text": [
      "{'메로나': 1000, '폴라포': 1200, '빵빠레': 1800, '죠스바': 1200, '월드콘': 1500}\n"
     ]
    }
   ],
   "source": [
    "icecream = {\"메로나\": 1000, \"폴라포\": 1200, \"빵빠레\": 1800}\n",
    "icecream[\"죠스바\"] = 1200\n",
    "icecream[\"월드콘\"] = 1500\n",
    "print(icecream)"
   ]
  },
  {
   "cell_type": "markdown",
   "id": "78a5901f",
   "metadata": {},
   "source": [
    "087"
   ]
  },
  {
   "cell_type": "code",
   "execution_count": 64,
   "id": "4dc1ba4e",
   "metadata": {},
   "outputs": [
    {
     "name": "stdout",
     "output_type": "stream",
     "text": [
      "메로나 가격: 1000\n"
     ]
    }
   ],
   "source": [
    "ice = {'메로나': 1000,\n",
    "       '폴로포': 1200,\n",
    "       '빵빠레': 1800,\n",
    "       '죠스바': 1200,\n",
    "       '월드콘': 1500}\n",
    "print(\"메로나 가격:\", ice[\"메로나\"])"
   ]
  },
  {
   "cell_type": "markdown",
   "id": "e4036fa6",
   "metadata": {},
   "source": [
    "088"
   ]
  },
  {
   "cell_type": "code",
   "execution_count": 65,
   "id": "872b293c",
   "metadata": {},
   "outputs": [
    {
     "name": "stdout",
     "output_type": "stream",
     "text": [
      "{'메로나': 1300, '폴로포': 1200, '빵빠레': 1800, '죠스바': 1200, '월드콘': 1500}\n"
     ]
    }
   ],
   "source": [
    "ice = {'메로나': 1000,\n",
    "       '폴로포': 1200,\n",
    "       '빵빠레': 1800,\n",
    "       '죠스바': 1200,\n",
    "       '월드콘': 1500}\n",
    "ice[\"메로나\"] = 1300\n",
    "print(ice)"
   ]
  },
  {
   "cell_type": "markdown",
   "id": "57e6a0cd",
   "metadata": {},
   "source": [
    "089"
   ]
  },
  {
   "cell_type": "code",
   "execution_count": 67,
   "id": "d721b222",
   "metadata": {},
   "outputs": [
    {
     "name": "stdout",
     "output_type": "stream",
     "text": [
      "{'폴로포': 1200, '빵빠레': 1800, '죠스바': 1200, '월드콘': 1500}\n"
     ]
    }
   ],
   "source": [
    "ice = {'메로나': 1000,\n",
    "       '폴로포': 1200,\n",
    "       '빵빠레': 1800,\n",
    "       '죠스바': 1200,\n",
    "       '월드콘': 1500}\n",
    "del ice[\"메로나\"]\n",
    "print(ice)"
   ]
  },
  {
   "cell_type": "markdown",
   "id": "e08b50d4",
   "metadata": {},
   "source": [
    "090"
   ]
  },
  {
   "cell_type": "code",
   "execution_count": null,
   "id": "2856e17f",
   "metadata": {},
   "outputs": [],
   "source": [
    "icecream = {'폴라포': 1200, '빵빠레': 1800, '월드콘': 1500, '메로나': 1000}\n",
    "icecream['누가바'] # 딕셔너리에 없는 Key를 조회하면 Error 발생"
   ]
  },
  {
   "cell_type": "markdown",
   "id": "bd8ff8e6",
   "metadata": {},
   "source": [
    "091"
   ]
  },
  {
   "cell_type": "code",
   "execution_count": 69,
   "id": "dccde03c",
   "metadata": {},
   "outputs": [
    {
     "name": "stdout",
     "output_type": "stream",
     "text": [
      "{'메로나': [300, 20], '비비빅': [400, 3], '죠스바': [250, 100]}\n"
     ]
    }
   ],
   "source": [
    "inventory = {\"메로나\": [300, 20], \"비비빅\": [400, 3], \"죠스바\": [250, 100]}\n",
    "print(inventory)"
   ]
  },
  {
   "cell_type": "markdown",
   "id": "7c962462",
   "metadata": {},
   "source": [
    "092"
   ]
  },
  {
   "cell_type": "code",
   "execution_count": 72,
   "id": "b41537f2",
   "metadata": {},
   "outputs": [
    {
     "name": "stdout",
     "output_type": "stream",
     "text": [
      "300 원\n"
     ]
    }
   ],
   "source": [
    "inventory = {\"메로나\": [300, 20],\n",
    "              \"비비빅\": [400, 3],\n",
    "              \"죠스바\": [250, 100]}\n",
    "print(inventory[\"메로나\"][0], \"원\")"
   ]
  },
  {
   "cell_type": "markdown",
   "id": "09d6b7eb",
   "metadata": {},
   "source": [
    "093"
   ]
  },
  {
   "cell_type": "code",
   "execution_count": 73,
   "id": "e4d303ea",
   "metadata": {},
   "outputs": [
    {
     "name": "stdout",
     "output_type": "stream",
     "text": [
      "20 개\n"
     ]
    }
   ],
   "source": [
    "inventory = {\"메로나\": [300, 20],\n",
    "              \"비비빅\": [400, 3],\n",
    "              \"죠스바\": [250, 100]}\n",
    "print(inventory[\"메로나\"][1], \"개\")"
   ]
  },
  {
   "cell_type": "markdown",
   "id": "69515fb1",
   "metadata": {},
   "source": [
    "094"
   ]
  },
  {
   "cell_type": "code",
   "execution_count": 74,
   "id": "86ec6efd",
   "metadata": {},
   "outputs": [
    {
     "name": "stdout",
     "output_type": "stream",
     "text": [
      "{'메로나': [300, 20], '비비빅': [400, 3], '죠스바': [250, 100], '월드콘': [500, 7]}\n"
     ]
    }
   ],
   "source": [
    "inventory = {\"메로나\": [300, 20],\n",
    "              \"비비빅\": [400, 3],\n",
    "              \"죠스바\": [250, 100]}\n",
    "inventory[\"월드콘\"] = [500, 7]\n",
    "print(inventory)"
   ]
  },
  {
   "cell_type": "markdown",
   "id": "6b70c4cd",
   "metadata": {},
   "source": [
    "095"
   ]
  },
  {
   "cell_type": "code",
   "execution_count": 77,
   "id": "a6b6193d",
   "metadata": {},
   "outputs": [
    {
     "name": "stdout",
     "output_type": "stream",
     "text": [
      "['탱크보이', '폴라포', '빵빠레', '월드콘', '메로나']\n"
     ]
    }
   ],
   "source": [
    "icecream = {'탱크보이': 1200, '폴라포': 1200, '빵빠레': 1800, '월드콘': 1500, '메로나': 1000}\n",
    "key_list = list(icecream.keys())\n",
    "print(key_list)"
   ]
  },
  {
   "cell_type": "markdown",
   "id": "d404272c",
   "metadata": {},
   "source": [
    "096"
   ]
  },
  {
   "cell_type": "code",
   "execution_count": 78,
   "id": "a6c965b7",
   "metadata": {},
   "outputs": [
    {
     "name": "stdout",
     "output_type": "stream",
     "text": [
      "[1200, 1200, 1800, 1500, 1000]\n"
     ]
    }
   ],
   "source": [
    "icecream = {'탱크보이': 1200, '폴라포': 1200, '빵빠레': 1800, '월드콘': 1500, '메로나': 1000}\n",
    "value_list = list(icecream.values())\n",
    "print(value_list)"
   ]
  },
  {
   "cell_type": "markdown",
   "id": "7c56a703",
   "metadata": {},
   "source": [
    "097"
   ]
  },
  {
   "cell_type": "code",
   "execution_count": 79,
   "id": "895898ff",
   "metadata": {},
   "outputs": [
    {
     "name": "stdout",
     "output_type": "stream",
     "text": [
      "6700\n"
     ]
    }
   ],
   "source": [
    "icecream = {'탱크보이': 1200, '폴라포': 1200, '빵빠레': 1800, '월드콘': 1500, '메로나': 1000}\n",
    "print(sum(icecream.values()))"
   ]
  },
  {
   "cell_type": "markdown",
   "id": "2c1667e2",
   "metadata": {},
   "source": [
    "098"
   ]
  },
  {
   "cell_type": "code",
   "execution_count": 81,
   "id": "81c09f88",
   "metadata": {},
   "outputs": [
    {
     "name": "stdout",
     "output_type": "stream",
     "text": [
      "{'탱크보이': 1200, '폴라포': 1200, '빵빠레': 1800, '월드콘': 1500, '메로나': 1000, '팥빙수': 2700, '아맛나': 1000}\n"
     ]
    }
   ],
   "source": [
    "icecream = {'탱크보이': 1200, '폴라포': 1200, '빵빠레': 1800, '월드콘': 1500, '메로나': 1000}\n",
    "new_product = {'팥빙수':2700, '아맛나':1000}\n",
    "icecream.update(new_product)\n",
    "print(icecream)"
   ]
  },
  {
   "cell_type": "markdown",
   "id": "5f399b4a",
   "metadata": {},
   "source": [
    "099"
   ]
  },
  {
   "cell_type": "code",
   "execution_count": 83,
   "id": "90304fd1",
   "metadata": {},
   "outputs": [
    {
     "name": "stdout",
     "output_type": "stream",
     "text": [
      "{'apple': 300, 'pear': 250, 'peach': 400}\n"
     ]
    }
   ],
   "source": [
    "keys = (\"apple\", \"pear\", \"peach\")\n",
    "vals = (300, 250, 400)\n",
    "result = dict(zip(keys, vals))\n",
    "print(result)"
   ]
  },
  {
   "cell_type": "markdown",
   "id": "2e2e8f22",
   "metadata": {},
   "source": [
    "100"
   ]
  },
  {
   "cell_type": "code",
   "execution_count": 84,
   "id": "50f0ead6",
   "metadata": {},
   "outputs": [
    {
     "name": "stdout",
     "output_type": "stream",
     "text": [
      "{'09/05': 10500, '09/06': 10300, '09/07': 10100, '09/08': 10800, '09/09': 11000}\n"
     ]
    }
   ],
   "source": [
    "date = ['09/05', '09/06', '09/07', '09/08', '09/09']\n",
    "close_price = [10500, 10300, 10100, 10800, 11000]\n",
    "close_table = dict(zip(date, close_price))\n",
    "print(close_table)"
   ]
  }
 ],
 "metadata": {
  "kernelspec": {
   "display_name": "Python 3 (ipykernel)",
   "language": "python",
   "name": "python3"
  },
  "language_info": {
   "codemirror_mode": {
    "name": "ipython",
    "version": 3
   },
   "file_extension": ".py",
   "mimetype": "text/x-python",
   "name": "python",
   "nbconvert_exporter": "python",
   "pygments_lexer": "ipython3",
   "version": "3.11.7"
  },
  "toc": {
   "base_numbering": 1,
   "nav_menu": {},
   "number_sections": true,
   "sideBar": true,
   "skip_h1_title": false,
   "title_cell": "Table of Contents",
   "title_sidebar": "Contents",
   "toc_cell": false,
   "toc_position": {},
   "toc_section_display": true,
   "toc_window_display": false
  }
 },
 "nbformat": 4,
 "nbformat_minor": 5
}
