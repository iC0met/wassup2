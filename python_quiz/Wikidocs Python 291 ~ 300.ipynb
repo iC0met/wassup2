{
 "cells": [
  {
   "cell_type": "markdown",
   "id": "c6887ed9",
   "metadata": {},
   "source": [
    "291"
   ]
  },
  {
   "cell_type": "code",
   "execution_count": null,
   "id": "c1e05b0a",
   "metadata": {},
   "outputs": [],
   "source": [
    "f = open(\"매수종목1.txt\",\"wt\")\n",
    "f.write(\"005930\\n\")\n",
    "f.write(\"005380\\n\")\n",
    "f.write(\"035420\\n\")\n",
    "f.close()"
   ]
  },
  {
   "cell_type": "markdown",
   "id": "792c6251",
   "metadata": {},
   "source": [
    "292"
   ]
  },
  {
   "cell_type": "code",
   "execution_count": null,
   "id": "140af46b",
   "metadata": {},
   "outputs": [],
   "source": [
    "f = open(\"매수종목2.txt\",\"wt\")\n",
    "f.write(\"005930 삼성전자\\n\")\n",
    "f.write(\"005380 현대차\\n\")\n",
    "f.write(\"035420 NAVER\\n\")\n",
    "f.close()"
   ]
  },
  {
   "cell_type": "markdown",
   "id": "091cb780",
   "metadata": {},
   "source": [
    "293"
   ]
  },
  {
   "cell_type": "code",
   "execution_count": 3,
   "id": "7b1067c6",
   "metadata": {},
   "outputs": [],
   "source": [
    "import csv\n",
    "\n",
    "f = open(\"C:\\\\Users\\\\junju\\\\OneDrive\\\\바탕 화면\\\\매수종목.csv\", mode=\"wt\", encoding=\"cp949\", newline='')\n",
    "writer = csv.writer(f)\n",
    "writer.writerow([\"종목명\", \"종목코드\", \"PER\"])\n",
    "writer.writerow([\"삼성전자\", \"005930\", 15.59])\n",
    "writer.writerow([\"NAVER\", \"035420\", 55.82])\n",
    "f.close()"
   ]
  },
  {
   "cell_type": "markdown",
   "id": "1e0edae5",
   "metadata": {},
   "source": [
    "294"
   ]
  },
  {
   "cell_type": "code",
   "execution_count": null,
   "id": "abe37db0",
   "metadata": {},
   "outputs": [],
   "source": [
    "f = open(\"매수종목1.txt\")\n",
    "lines = f.readlines()\n",
    "\n",
    "codes = []\n",
    "for i in lines:\n",
    "    code = line.strip()\n",
    "    codes.append(code)\n",
    "    \n",
    "print(codes)\n",
    "f.close()"
   ]
  },
  {
   "cell_type": "markdown",
   "id": "8e88feb8",
   "metadata": {},
   "source": [
    "295"
   ]
  },
  {
   "cell_type": "code",
   "execution_count": null,
   "id": "49a1bcf4",
   "metadata": {},
   "outputs": [],
   "source": [
    "f = open(\"매수종목1.txt\")\n",
    "lines = f.readlines()\n",
    "\n",
    "data = {}\n",
    "for line in lines:\n",
    "    line = line.strip()\n",
    "    k, v = line.split()\n",
    "    data[k] = v\n",
    "    \n",
    "print(data)\n",
    "f.close()"
   ]
  },
  {
   "cell_type": "markdown",
   "id": "7f1e8fc7",
   "metadata": {},
   "source": [
    "296"
   ]
  },
  {
   "cell_type": "code",
   "execution_count": 4,
   "id": "2771a3cf",
   "metadata": {},
   "outputs": [
    {
     "name": "stdout",
     "output_type": "stream",
     "text": [
      "10.31\n",
      "0\n",
      "8.0\n"
     ]
    }
   ],
   "source": [
    "per = [\"10.31\", \"\", \"8.00\"]\n",
    "\n",
    "for i in per:\n",
    "    try:\n",
    "        print(float(i))\n",
    "    except:\n",
    "        print(0)"
   ]
  },
  {
   "cell_type": "markdown",
   "id": "3592286a",
   "metadata": {},
   "source": [
    "297"
   ]
  },
  {
   "cell_type": "code",
   "execution_count": 5,
   "id": "f8afa6c0",
   "metadata": {},
   "outputs": [
    {
     "name": "stdout",
     "output_type": "stream",
     "text": [
      "[10.31, 0, 8.0]\n"
     ]
    }
   ],
   "source": [
    "per = [\"10.31\", \"\", \"8.00\"]\n",
    "list = []\n",
    "for i in per:\n",
    "    try:\n",
    "        k = float(i)\n",
    "    except:\n",
    "        k = 0\n",
    "    list.append(k)\n",
    "    \n",
    "print(list)"
   ]
  },
  {
   "cell_type": "markdown",
   "id": "d000eedc",
   "metadata": {},
   "source": [
    "298"
   ]
  },
  {
   "cell_type": "code",
   "execution_count": 8,
   "id": "5e260049",
   "metadata": {},
   "outputs": [
    {
     "name": "stdout",
     "output_type": "stream",
     "text": [
      "숫자 0으로 나눌 수 없어용\n"
     ]
    }
   ],
   "source": [
    "try:\n",
    "    7 / 0\n",
    "except:\n",
    "    print(\"숫자 0으로 나눌 수 없어용\")"
   ]
  },
  {
   "cell_type": "markdown",
   "id": "b046c1e5",
   "metadata": {},
   "source": [
    "299"
   ]
  },
  {
   "cell_type": "code",
   "execution_count": 9,
   "id": "cd98e102",
   "metadata": {},
   "outputs": [
    {
     "name": "stdout",
     "output_type": "stream",
     "text": [
      "1\n",
      "2\n",
      "3\n",
      "list index out of range\n",
      "list index out of range\n"
     ]
    }
   ],
   "source": [
    "data = [1, 2, 3]\n",
    "\n",
    "for i in range(5):\n",
    "    try:\n",
    "        print(data[i])\n",
    "    except IndexError as I:\n",
    "        print(I)"
   ]
  },
  {
   "cell_type": "markdown",
   "id": "88655e74",
   "metadata": {},
   "source": [
    "300"
   ]
  },
  {
   "cell_type": "code",
   "execution_count": 11,
   "id": "5ac9c104",
   "metadata": {},
   "outputs": [
    {
     "name": "stdout",
     "output_type": "stream",
     "text": [
      "10.31\n",
      "float! Convert Success\n",
      "0\n",
      "Convert Success\n",
      "8.0\n",
      "float! Convert Success\n"
     ]
    }
   ],
   "source": [
    "per = [\"10.31\", \"\", \"8.00\"]\n",
    "\n",
    "for i in per:\n",
    "    try:\n",
    "        print(float(i))\n",
    "    except:\n",
    "        print(0)\n",
    "    else:\n",
    "        print(\"float!\", end=' ')\n",
    "    finally:\n",
    "        print(\"Convert Success\")"
   ]
  }
 ],
 "metadata": {
  "kernelspec": {
   "display_name": "Python 3 (ipykernel)",
   "language": "python",
   "name": "python3"
  },
  "language_info": {
   "codemirror_mode": {
    "name": "ipython",
    "version": 3
   },
   "file_extension": ".py",
   "mimetype": "text/x-python",
   "name": "python",
   "nbconvert_exporter": "python",
   "pygments_lexer": "ipython3",
   "version": "3.11.7"
  },
  "toc": {
   "base_numbering": 1,
   "nav_menu": {},
   "number_sections": true,
   "sideBar": true,
   "skip_h1_title": false,
   "title_cell": "Table of Contents",
   "title_sidebar": "Contents",
   "toc_cell": false,
   "toc_position": {},
   "toc_section_display": true,
   "toc_window_display": false
  }
 },
 "nbformat": 4,
 "nbformat_minor": 5
}
