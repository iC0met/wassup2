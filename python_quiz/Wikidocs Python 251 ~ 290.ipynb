{
 "cells": [
  {
   "cell_type": "markdown",
   "id": "97ca0089",
   "metadata": {},
   "source": [
    "251"
   ]
  },
  {
   "cell_type": "code",
   "execution_count": 1,
   "id": "60bd3f41",
   "metadata": {},
   "outputs": [],
   "source": [
    "# *클래스 : 변수와 메소드를 정의하는 틀(template)\n",
    "# *객체 : 클래스로 만들어진 결과물"
   ]
  },
  {
   "cell_type": "markdown",
   "id": "2e29b8bb",
   "metadata": {},
   "source": [
    "252"
   ]
  },
  {
   "cell_type": "code",
   "execution_count": 2,
   "id": "651e036c",
   "metadata": {},
   "outputs": [],
   "source": [
    "class Human:\n",
    "    pass"
   ]
  },
  {
   "cell_type": "markdown",
   "id": "81a120fc",
   "metadata": {},
   "source": [
    "253"
   ]
  },
  {
   "cell_type": "code",
   "execution_count": 3,
   "id": "49d778ab",
   "metadata": {},
   "outputs": [],
   "source": [
    "class Human:\n",
    "    pass\n",
    "\n",
    "areum = Human()"
   ]
  },
  {
   "cell_type": "markdown",
   "id": "26fdd986",
   "metadata": {},
   "source": [
    "254"
   ]
  },
  {
   "cell_type": "code",
   "execution_count": 5,
   "id": "2c0f1a98",
   "metadata": {},
   "outputs": [
    {
     "name": "stdout",
     "output_type": "stream",
     "text": [
      "응애응애\n"
     ]
    }
   ],
   "source": [
    "class Human:\n",
    "    def __init__(self):\n",
    "        print(\"응애응애\")\n",
    "    \n",
    "areum = Human()"
   ]
  },
  {
   "cell_type": "markdown",
   "id": "c46b1244",
   "metadata": {},
   "source": [
    "255"
   ]
  },
  {
   "cell_type": "code",
   "execution_count": 8,
   "id": "f20de0a1",
   "metadata": {},
   "outputs": [
    {
     "name": "stdout",
     "output_type": "stream",
     "text": [
      "아름\n"
     ]
    }
   ],
   "source": [
    "class Human:\n",
    "    def __init__(self, name, age, sex):\n",
    "        self.name = name\n",
    "        self.age = age\n",
    "        self.sex = sex\n",
    "        \n",
    "areum = Human(\"아름\", 25, \"여자\")\n",
    "print(areum.name)"
   ]
  },
  {
   "cell_type": "markdown",
   "id": "f0a3e2e0",
   "metadata": {},
   "source": [
    "256"
   ]
  },
  {
   "cell_type": "code",
   "execution_count": 9,
   "id": "ce8ae9cd",
   "metadata": {},
   "outputs": [
    {
     "name": "stdout",
     "output_type": "stream",
     "text": [
      "아름 25 여자\n"
     ]
    }
   ],
   "source": [
    "class Human:\n",
    "    def __init__(self, name, age, sex):\n",
    "        self.name = name\n",
    "        self.age = age\n",
    "        self.sex = sex\n",
    "        \n",
    "areum = Human(\"아름\", 25, \"여자\")\n",
    "print(areum.name, areum.age, areum.sex)"
   ]
  },
  {
   "cell_type": "markdown",
   "id": "abfc0846",
   "metadata": {},
   "source": [
    "257"
   ]
  },
  {
   "cell_type": "code",
   "execution_count": 13,
   "id": "ecca052c",
   "metadata": {},
   "outputs": [
    {
     "name": "stdout",
     "output_type": "stream",
     "text": [
      "이름: 아름, 나이: 25, 성별: 여자\n"
     ]
    }
   ],
   "source": [
    "class Human:\n",
    "    def __init__(self, name, age, sex):\n",
    "        self.name = name\n",
    "        self.age = age\n",
    "        self.sex = sex\n",
    "        \n",
    "    def who(self):\n",
    "        print(f\"이름: {self.name}, 나이: {self.age}, 성별: {self.sex}\")\n",
    "        \n",
    "areum = Human(\"아름\", 25, \"여자\")\n",
    "areum.who()"
   ]
  },
  {
   "cell_type": "markdown",
   "id": "b98a28de",
   "metadata": {},
   "source": [
    "258"
   ]
  },
  {
   "cell_type": "code",
   "execution_count": 12,
   "id": "5e9bed65",
   "metadata": {},
   "outputs": [
    {
     "name": "stdout",
     "output_type": "stream",
     "text": [
      "이름: 불명 나이: 미상 성별: 모름\n"
     ]
    }
   ],
   "source": [
    "class Human:\n",
    "    def __init__(self, name, age, sex):\n",
    "        self.name = name\n",
    "        self.age = age\n",
    "        self.sex = sex\n",
    "\n",
    "    def who(self):\n",
    "        print(\"이름: {} 나이: {} 성별: {}\".format(self.name, self.age, self.sex))\n",
    "\n",
    "    def setInfo(self, name, age, sex):\n",
    "        self.name = name\n",
    "        self.age = age\n",
    "        self.sex = sex\n",
    "\n",
    "\n",
    "areum = Human(\"불명\", \"미상\", \"모름\")\n",
    "areum.who()"
   ]
  },
  {
   "cell_type": "markdown",
   "id": "a7097ab6",
   "metadata": {},
   "source": [
    "259"
   ]
  },
  {
   "cell_type": "code",
   "execution_count": 15,
   "id": "b62a4c02",
   "metadata": {},
   "outputs": [
    {
     "name": "stdout",
     "output_type": "stream",
     "text": [
      "나의 죽음을 알리지마라\n"
     ]
    }
   ],
   "source": [
    "class Human:\n",
    "    def __init__(self, name, age, sex):\n",
    "        self.name = name\n",
    "        self.age = age\n",
    "        self.sex = sex\n",
    "        \n",
    "    def __del__(self):\n",
    "        print(\"나의 죽음을 알리지마라\")\n",
    "\n",
    "    def who(self):\n",
    "        print(\"이름: {} 나이: {} 성별: {}\".format(self.name, self.age, self.sex))\n",
    "\n",
    "    def setInfo(self, name, age, sex):\n",
    "        self.name = name\n",
    "        self.age = age\n",
    "        self.sex = sex\n",
    "        \n",
    "areum = Human(\"불명\", \"미상\", \"모름\")\n",
    "del(areum)"
   ]
  },
  {
   "cell_type": "markdown",
   "id": "b786f4ea",
   "metadata": {},
   "source": [
    "260"
   ]
  },
  {
   "cell_type": "code",
   "execution_count": null,
   "id": "24c6e746",
   "metadata": {},
   "outputs": [],
   "source": [
    "class OMG :\n",
    "    def print() : # 매개변수를 지정해 주지 않음\n",
    "        print(\"Oh my god\")\n",
    "\n",
    "\n",
    "mystock = OMG()\n",
    "mystock.print()"
   ]
  },
  {
   "cell_type": "markdown",
   "id": "e587be3c",
   "metadata": {},
   "source": [
    "261"
   ]
  },
  {
   "cell_type": "code",
   "execution_count": null,
   "id": "25ce9c12",
   "metadata": {},
   "outputs": [],
   "source": [
    "class Stock:\n",
    "    pass"
   ]
  },
  {
   "cell_type": "markdown",
   "id": "495713b3",
   "metadata": {},
   "source": [
    "262"
   ]
  },
  {
   "cell_type": "code",
   "execution_count": 16,
   "id": "ae32e354",
   "metadata": {},
   "outputs": [
    {
     "name": "stdout",
     "output_type": "stream",
     "text": [
      "삼성전자\n",
      "005930\n"
     ]
    }
   ],
   "source": [
    "class Stock:\n",
    "    def __init__(self, name, code):\n",
    "        self.name = name\n",
    "        self.code = code\n",
    "        \n",
    "삼성 = Stock(\"삼성전자\", \"005930\")\n",
    "print(삼성.name)\n",
    "print(삼성.code)"
   ]
  },
  {
   "cell_type": "markdown",
   "id": "53a39624",
   "metadata": {},
   "source": [
    "263"
   ]
  },
  {
   "cell_type": "code",
   "execution_count": null,
   "id": "40eba15e",
   "metadata": {},
   "outputs": [],
   "source": [
    "class Stock:\n",
    "    def __init__(self, name, code):\n",
    "        self.name = name\n",
    "        self.code = code\n",
    "        \n",
    "    def set_name(self, name):\n",
    "        self.name = name"
   ]
  },
  {
   "cell_type": "markdown",
   "id": "a114476c",
   "metadata": {},
   "source": [
    "264"
   ]
  },
  {
   "cell_type": "code",
   "execution_count": null,
   "id": "442f0598",
   "metadata": {},
   "outputs": [],
   "source": [
    "class Stock:\n",
    "    def __init__(self, name, code):\n",
    "        self.name = name\n",
    "        self.code = code\n",
    "        \n",
    "    def set_name(self, name):\n",
    "        self.name = name\n",
    "        \n",
    "    def set_code(self, code)\n",
    "        self.code = code"
   ]
  },
  {
   "cell_type": "markdown",
   "id": "8791abde",
   "metadata": {},
   "source": [
    "265"
   ]
  },
  {
   "cell_type": "code",
   "execution_count": null,
   "id": "2e0553a7",
   "metadata": {},
   "outputs": [],
   "source": [
    "class Stock:\n",
    "    def __init__(self, name, code):\n",
    "        self.name = name\n",
    "        self.code = code\n",
    "\n",
    "    def set_name(self, name):\n",
    "        self.name = name\n",
    "\n",
    "    def set_code(self, code):\n",
    "        self.code = code\n",
    "\n",
    "    def get_name(self):\n",
    "        return self.name\n",
    "\n",
    "    def get_code(self):\n",
    "        return self.code"
   ]
  },
  {
   "cell_type": "markdown",
   "id": "48c01bf7",
   "metadata": {},
   "source": [
    "266"
   ]
  },
  {
   "cell_type": "code",
   "execution_count": null,
   "id": "2e4794c8",
   "metadata": {},
   "outputs": [],
   "source": [
    "class Stock:\n",
    "    def __init__(self, name, code, per, pbr, 배당수익률):\n",
    "        self.name = name\n",
    "        self.code = code\n",
    "        self.per = per\n",
    "        self.pbr = pbr\n",
    "        self.배당수익률 = 배당수익률\n",
    "\n",
    "    def set_name(self, name):\n",
    "        self.name = name\n",
    "\n",
    "    def set_code(self, code):\n",
    "        self.code = code\n",
    "\n",
    "    def get_name(self):\n",
    "        return self.name\n",
    "\n",
    "    def get_code(self):\n",
    "        return self.code"
   ]
  },
  {
   "cell_type": "markdown",
   "id": "a2cf0002",
   "metadata": {},
   "source": [
    "267"
   ]
  },
  {
   "cell_type": "code",
   "execution_count": 17,
   "id": "beceded3",
   "metadata": {},
   "outputs": [
    {
     "name": "stdout",
     "output_type": "stream",
     "text": [
      "2.83\n"
     ]
    }
   ],
   "source": [
    "class Stock:\n",
    "    def __init__(self, name, code, per, pbr, 배당수익률):\n",
    "        self.name = name\n",
    "        self.code = code\n",
    "        self.per = per\n",
    "        self.pbr = pbr\n",
    "        self.배당수익률 = 배당수익률\n",
    "\n",
    "    def set_name(self, name):\n",
    "        self.name = name\n",
    "\n",
    "    def set_code(self, code):\n",
    "        self.code = code\n",
    "\n",
    "    def get_name(self):\n",
    "        return self.name\n",
    "\n",
    "    def get_code(self):\n",
    "        return self.code\n",
    "    \n",
    "삼성 = Stock(\"삼성전자\", \"005930\", 15.79, 1.33, 2.83)\n",
    "print(삼성.배당수익률)"
   ]
  },
  {
   "cell_type": "markdown",
   "id": "eb0347ac",
   "metadata": {},
   "source": [
    "268"
   ]
  },
  {
   "cell_type": "code",
   "execution_count": null,
   "id": "d56b812d",
   "metadata": {},
   "outputs": [],
   "source": [
    "class Stock:\n",
    "    def __init__(self, name, code, per, pbr, dividend):\n",
    "        self.name = name\n",
    "        self.code = code\n",
    "        self.per = per\n",
    "        self.pbr = pbr\n",
    "        self.dividend = dividend\n",
    "\n",
    "    def set_name(self, name):\n",
    "        self.name = name\n",
    "\n",
    "    def set_code(self, code):\n",
    "        self.code = code\n",
    "\n",
    "    def get_name(self):\n",
    "        return self.name\n",
    "\n",
    "    def get_code(self):\n",
    "        return self.code\n",
    "\n",
    "    def set_per(self, per):\n",
    "        self.per = per\n",
    "\n",
    "    def set_pbr(self, pbr):\n",
    "        self.pbr = pbr\n",
    "\n",
    "    def set_dividend(self, dividend):\n",
    "        self.dividend = dividend"
   ]
  },
  {
   "cell_type": "markdown",
   "id": "9ceb88d7",
   "metadata": {},
   "source": [
    "269"
   ]
  },
  {
   "cell_type": "code",
   "execution_count": 18,
   "id": "f887c709",
   "metadata": {},
   "outputs": [
    {
     "name": "stdout",
     "output_type": "stream",
     "text": [
      "12.75\n"
     ]
    }
   ],
   "source": [
    "class Stock:\n",
    "    def __init__(self, name, code, per, pbr, dividend):\n",
    "        self.name = name\n",
    "        self.code = code\n",
    "        self.per = per\n",
    "        self.pbr = pbr\n",
    "        self.dividend = dividend\n",
    "\n",
    "    def set_name(self, name):\n",
    "        self.name = name\n",
    "\n",
    "    def set_code(self, code):\n",
    "        self.code = code\n",
    "\n",
    "    def get_name(self):\n",
    "        return self.name\n",
    "\n",
    "    def get_code(self):\n",
    "        return self.code\n",
    "\n",
    "    def set_per(self, per):\n",
    "        self.per = per\n",
    "\n",
    "    def set_pbr(self, pbr):\n",
    "        self.pbr = pbr\n",
    "\n",
    "    def set_dividend(self, dividend):\n",
    "        self.dividend = dividend\n",
    "\n",
    "삼성 = Stock(\"삼성전자\", \"005930\", 15.79, 1.33, 2.83)\n",
    "삼성.set_per(12.75)\n",
    "print(삼성.per)"
   ]
  },
  {
   "cell_type": "markdown",
   "id": "bee0de0a",
   "metadata": {},
   "source": [
    "270"
   ]
  },
  {
   "cell_type": "code",
   "execution_count": 19,
   "id": "163c2f64",
   "metadata": {},
   "outputs": [
    {
     "name": "stdout",
     "output_type": "stream",
     "text": [
      "005930 15.79\n",
      "005380 8.7\n",
      "066570 317.34\n"
     ]
    }
   ],
   "source": [
    "class Stock:\n",
    "    def __init__(self, name, code, per, pbr, dividend):\n",
    "        self.name = name\n",
    "        self.code = code\n",
    "        self.per = per\n",
    "        self.pbr = pbr\n",
    "        self.dividend = dividend\n",
    "\n",
    "    def set_name(self, name):\n",
    "        self.name = name\n",
    "\n",
    "    def set_code(self, code):\n",
    "        self.code = code\n",
    "\n",
    "    def get_name(self):\n",
    "        return self.name\n",
    "\n",
    "    def get_code(self):\n",
    "        return self.code\n",
    "\n",
    "    def set_per(self, per):\n",
    "        self.per = per\n",
    "\n",
    "    def set_pbr(self, pbr):\n",
    "        self.pbr = pbr\n",
    "\n",
    "    def set_dividend(self, dividend):\n",
    "        self.dividend = dividend\n",
    "        \n",
    "종목 = []\n",
    "\n",
    "삼성 = Stock(\"삼성전자\", \"005930\", 15.79, 1.33, 2.83)\n",
    "현대차 = Stock(\"현대차\", \"005380\", 8.70, 0.35, 4.27)\n",
    "LG전자 = Stock(\"LG전자\", \"066570\", 317.34, 0.69, 1.37)\n",
    "\n",
    "종목.append(삼성)\n",
    "종목.append(현대차)\n",
    "종목.append(LG전자)\n",
    "\n",
    "for i in 종목:\n",
    "    print(i.code, i.per)"
   ]
  },
  {
   "cell_type": "markdown",
   "id": "0f975374",
   "metadata": {},
   "source": [
    "271"
   ]
  },
  {
   "cell_type": "code",
   "execution_count": null,
   "id": "9e1de5bb",
   "metadata": {},
   "outputs": [],
   "source": [
    "import random\n",
    "\n",
    "class Account:\n",
    "    def __init__(self, name, balance):\n",
    "        self.name = name\n",
    "        self.balance = balance\n",
    "        self.bank = \"SC은행\"\n",
    "        num1 = random.randint(0, 999)\n",
    "        num2 = random.randint(0, 99)\n",
    "        num3 = random.randint(0, 999999)\n",
    "        num1 = str(num1).zfill(3)\n",
    "        num2 = str(num1).zfill(2)\n",
    "        num3 = str(num1).zfill(6)\n",
    "        self.account_num = num1 + '-' + num2 + '-' + num3"
   ]
  },
  {
   "cell_type": "markdown",
   "id": "2a892af5",
   "metadata": {},
   "source": [
    "272"
   ]
  },
  {
   "cell_type": "code",
   "execution_count": null,
   "id": "f0b2a928",
   "metadata": {},
   "outputs": [],
   "source": [
    "import random\n",
    "\n",
    "class Account:\n",
    "    account_cnt = 0\n",
    "    def __init__(self, name, balance):\n",
    "        self.name = name\n",
    "        self.balance = balance\n",
    "        self.bank = \"SC은행\"\n",
    "        num1 = random.randint(0, 999)\n",
    "        num2 = random.randint(0, 99)\n",
    "        num3 = random.randint(0, 999999)\n",
    "        num1 = str(num1).zfill(3)\n",
    "        num2 = str(num1).zfill(2)\n",
    "        num3 = str(num1).zfill(6)\n",
    "        self.account_num = num1 + '-' + num2 + '-' + num3\n",
    "        Account.account_cnt += 1"
   ]
  },
  {
   "cell_type": "markdown",
   "id": "222e4048",
   "metadata": {},
   "source": [
    "273"
   ]
  },
  {
   "cell_type": "code",
   "execution_count": null,
   "id": "4a1139ad",
   "metadata": {},
   "outputs": [],
   "source": [
    "import random\n",
    "\n",
    "class Account:\n",
    "    account_cnt = 0\n",
    "    def __init__(self, name, balance):\n",
    "        self.name = name\n",
    "        self.balance = balance\n",
    "        self.bank = \"SC은행\"\n",
    "        num1 = random.randint(0, 999)\n",
    "        num2 = random.randint(0, 99)\n",
    "        num3 = random.randint(0, 999999)\n",
    "        num1 = str(num1).zfill(3)\n",
    "        num2 = str(num1).zfill(2)\n",
    "        num3 = str(num1).zfill(6)\n",
    "        self.account_num = num1 + '-' + num2 + '-' + num3\n",
    "        Account.account_cnt += 1\n",
    "    \n",
    "    @classmethod\n",
    "    def get_account_num(cls):\n",
    "        print(cls.account_cnt)"
   ]
  },
  {
   "cell_type": "markdown",
   "id": "ac5a57ed",
   "metadata": {},
   "source": [
    "274"
   ]
  },
  {
   "cell_type": "code",
   "execution_count": null,
   "id": "59121d54",
   "metadata": {},
   "outputs": [],
   "source": [
    "import random\n",
    "\n",
    "class Account:\n",
    "    account_cnt = 0\n",
    "    def __init__(self, name, balance):\n",
    "        self.name = name\n",
    "        self.balance = balance\n",
    "        self.bank = \"SC은행\"\n",
    "        num1 = random.randint(0, 999)\n",
    "        num2 = random.randint(0, 99)\n",
    "        num3 = random.randint(0, 999999)\n",
    "        num1 = str(num1).zfill(3)\n",
    "        num2 = str(num1).zfill(2)\n",
    "        num3 = str(num1).zfill(6)\n",
    "        self.account_num = num1 + '-' + num2 + '-' + num3\n",
    "        Account.account_cnt += 1\n",
    "    \n",
    "    @classmethod\n",
    "    def get_account_num(cls):\n",
    "        print(cls.account_cnt)\n",
    "        \n",
    "    def deposit(self, amount):\n",
    "        if amount >= 1:\n",
    "            self.balance += amount"
   ]
  },
  {
   "cell_type": "markdown",
   "id": "086162d0",
   "metadata": {},
   "source": [
    "275"
   ]
  },
  {
   "cell_type": "code",
   "execution_count": 23,
   "id": "b287b3cb",
   "metadata": {},
   "outputs": [],
   "source": [
    "import random\n",
    "\n",
    "class Account:\n",
    "    account_cnt = 0\n",
    "    def __init__(self, name, balance):\n",
    "        self.name = name\n",
    "        self.balance = balance\n",
    "        self.bank = \"SC은행\"\n",
    "        num1 = random.randint(0, 999)\n",
    "        num2 = random.randint(0, 99)\n",
    "        num3 = random.randint(0, 999999)\n",
    "        num1 = str(num1).zfill(3)\n",
    "        num2 = str(num1).zfill(2)\n",
    "        num3 = str(num1).zfill(6)\n",
    "        self.account_num = num1 + '-' + num2 + '-' + num3\n",
    "        Account.account_cnt += 1\n",
    "    \n",
    "    @classmethod\n",
    "    def get_account_num(cls):\n",
    "        print(cls.account_cnt)\n",
    "        \n",
    "    def deposit(self, amount):\n",
    "        if amount >= 1:\n",
    "            self.balance += amount\n",
    "    \n",
    "    def withdraw(self, amount):\n",
    "        if self.balance > amount:\n",
    "            self.balance -= amount"
   ]
  },
  {
   "cell_type": "markdown",
   "id": "ed4e10ab",
   "metadata": {},
   "source": [
    "276"
   ]
  },
  {
   "cell_type": "code",
   "execution_count": 21,
   "id": "9817adc2",
   "metadata": {},
   "outputs": [
    {
     "name": "stdout",
     "output_type": "stream",
     "text": [
      "은행이름: SC은행\n",
      "예금주: 박준형\n",
      "계좌번호: 041-041-000041\n",
      "잔고: 10,000,000,000\n"
     ]
    }
   ],
   "source": [
    "import random\n",
    "\n",
    "class Account:\n",
    "    account_cnt = 0\n",
    "    def __init__(self, name, balance):\n",
    "        self.name = name\n",
    "        self.balance = balance\n",
    "        self.bank = \"SC은행\"\n",
    "        num1 = random.randint(0, 999)\n",
    "        num2 = random.randint(0, 99)\n",
    "        num3 = random.randint(0, 999999)\n",
    "        num1 = str(num1).zfill(3)\n",
    "        num2 = str(num1).zfill(2)\n",
    "        num3 = str(num1).zfill(6)\n",
    "        self.account_num = num1 + '-' + num2 + '-' + num3\n",
    "        Account.account_cnt += 1\n",
    "    \n",
    "    @classmethod\n",
    "    def get_account_num(cls):\n",
    "        print(cls.account_cnt)\n",
    "        \n",
    "    def deposit(self, amount):\n",
    "        if amount >= 1:\n",
    "            self.balance += amount\n",
    "    \n",
    "    def withdraw(self, amount):\n",
    "        if self.balance > amount:\n",
    "            self.balance -= amount\n",
    "    \n",
    "    def display_info(self):\n",
    "        print(\"은행이름:\", self.bank)\n",
    "        print(\"예금주:\", self.name)\n",
    "        print(\"계좌번호:\", self.account_num)\n",
    "        print(\"잔고:\", f\"{self.balance:,}\")\n",
    "        \n",
    "i = Account(\"박준형\", 10000000000)\n",
    "i.display_info()"
   ]
  },
  {
   "cell_type": "markdown",
   "id": "810089a6",
   "metadata": {},
   "source": [
    "277"
   ]
  },
  {
   "cell_type": "code",
   "execution_count": null,
   "id": "fc03789a",
   "metadata": {},
   "outputs": [],
   "source": [
    "import random\n",
    "\n",
    "class Account:\n",
    "    account_cnt = 0\n",
    "    def __init__(self, name, balance):\n",
    "        self.deposit_cnt = 0\n",
    "        self.name = name\n",
    "        self.balance = balance\n",
    "        self.bank = \"SC은행\"\n",
    "        num1 = random.randint(0, 999)\n",
    "        num2 = random.randint(0, 99)\n",
    "        num3 = random.randint(0, 999999)\n",
    "        num1 = str(num1).zfill(3)\n",
    "        num2 = str(num1).zfill(2)\n",
    "        num3 = str(num1).zfill(6)\n",
    "        self.account_num = num1 + '-' + num2 + '-' + num3\n",
    "        Account.account_cnt += 1\n",
    "    \n",
    "    @classmethod\n",
    "    def get_account_num(cls):\n",
    "        print(cls.account_cnt)\n",
    "        \n",
    "    def deposit(self, amount):\n",
    "        if amount >= 1:\n",
    "            self.balance += amount\n",
    "            \n",
    "            self.deposit_cnt += 1\n",
    "            if self.deposit_cnt % 5 == 0:\n",
    "                self.balance = self.balance * 1.01\n",
    "    \n",
    "    def withdraw(self, amount):\n",
    "        if self.balance > amount:\n",
    "            self.balance -= amount\n",
    "    \n",
    "    def display_info(self):\n",
    "        print(\"은행이름:\", self.bank)\n",
    "        print(\"예금주:\", self.name)\n",
    "        print(\"계좌번호:\", self.account_num)\n",
    "        print(\"잔고:\", f\"{self.balance:,}\")"
   ]
  },
  {
   "cell_type": "markdown",
   "id": "95782cab",
   "metadata": {},
   "source": [
    "278"
   ]
  },
  {
   "cell_type": "code",
   "execution_count": null,
   "id": "33782711",
   "metadata": {},
   "outputs": [],
   "source": [
    "list = []\n",
    "p = Account(\"Park\", 1000000000)\n",
    "l = Account(\"Lee\", 500000)\n",
    "k = Account(\"Kim\", 700000000)\n",
    "\n",
    "list.append(p)\n",
    "list.append(l)\n",
    "list.append(k)\n",
    "\n",
    "print(list)"
   ]
  },
  {
   "cell_type": "markdown",
   "id": "3c1859f3",
   "metadata": {},
   "source": [
    "279"
   ]
  },
  {
   "cell_type": "code",
   "execution_count": 25,
   "id": "5c347c55",
   "metadata": {},
   "outputs": [
    {
     "name": "stdout",
     "output_type": "stream",
     "text": [
      "은행이름: SC은행\n",
      "예금주: Park\n",
      "계좌번호: 658-658-000658\n",
      "잔고: 1,000,000,000\n",
      "은행이름: SC은행\n",
      "예금주: Kim\n",
      "계좌번호: 389-389-000389\n",
      "잔고: 700,000,000\n"
     ]
    }
   ],
   "source": [
    "import random\n",
    "\n",
    "class Account:\n",
    "    account_cnt = 0\n",
    "    def __init__(self, name, balance):\n",
    "        self.deposit_cnt = 0\n",
    "        self.name = name\n",
    "        self.balance = balance\n",
    "        self.bank = \"SC은행\"\n",
    "        num1 = random.randint(0, 999)\n",
    "        num2 = random.randint(0, 99)\n",
    "        num3 = random.randint(0, 999999)\n",
    "        num1 = str(num1).zfill(3)\n",
    "        num2 = str(num1).zfill(2)\n",
    "        num3 = str(num1).zfill(6)\n",
    "        self.account_num = num1 + '-' + num2 + '-' + num3\n",
    "        Account.account_cnt += 1\n",
    "    \n",
    "    @classmethod\n",
    "    def get_account_num(cls):\n",
    "        print(cls.account_cnt)\n",
    "        \n",
    "    def deposit(self, amount):\n",
    "        if amount >= 1:\n",
    "            self.balance += amount\n",
    "            \n",
    "            self.deposit_cnt += 1\n",
    "            if self.deposit_cnt % 5 == 0:\n",
    "                self.balance = self.balance * 1.01\n",
    "    \n",
    "    def withdraw(self, amount):\n",
    "        if self.balance > amount:\n",
    "            self.balance -= amount\n",
    "    \n",
    "    def display_info(self):\n",
    "        print(\"은행이름:\", self.bank)\n",
    "        print(\"예금주:\", self.name)\n",
    "        print(\"계좌번호:\", self.account_num)\n",
    "        print(\"잔고:\", f\"{self.balance:,}\")\n",
    "        \n",
    "list = []\n",
    "p = Account(\"Park\", 1000000000)\n",
    "l = Account(\"Lee\", 500000)\n",
    "k = Account(\"Kim\", 700000000)\n",
    "\n",
    "list.append(p)\n",
    "list.append(l)\n",
    "list.append(k)\n",
    "\n",
    "for i in list:\n",
    "    if i.balance >= 1000000:\n",
    "        i.display_info()"
   ]
  },
  {
   "cell_type": "markdown",
   "id": "5a333e3e",
   "metadata": {},
   "source": [
    "280"
   ]
  },
  {
   "cell_type": "code",
   "execution_count": null,
   "id": "64d0f471",
   "metadata": {},
   "outputs": [],
   "source": [
    "import random\n",
    "\n",
    "class Account:\n",
    "    account_cnt = 0\n",
    "    def __init__(self, name, balance):\n",
    "        self.deposit_cnt = 0\n",
    "        self.name = name\n",
    "        self.balance = balance\n",
    "        self.bank = \"SC은행\"\n",
    "        num1 = random.randint(0, 999)\n",
    "        num2 = random.randint(0, 99)\n",
    "        num3 = random.randint(0, 999999)\n",
    "        num1 = str(num1).zfill(3)\n",
    "        num2 = str(num1).zfill(2)\n",
    "        num3 = str(num1).zfill(6)\n",
    "        self.account_num = num1 + '-' + num2 + '-' + num3\n",
    "        Account.account_cnt += 1\n",
    "    \n",
    "    @classmethod\n",
    "    def get_account_num(cls):\n",
    "        print(cls.account_cnt)\n",
    "        \n",
    "    def deposit(self, amount):\n",
    "        if amount >= 1:\n",
    "            self.balance += amount\n",
    "            \n",
    "            self.deposit_cnt += 1\n",
    "            if self.deposit_cnt % 5 == 0:\n",
    "                self.balance = self.balance * 1.01\n",
    "    \n",
    "    def withdraw(self, amount):\n",
    "        if self.balance > amount:\n",
    "            self.balance -= amount\n",
    "    \n",
    "    def display_info(self):\n",
    "        print(\"은행이름:\", self.bank)\n",
    "        print(\"예금주:\", self.name)\n",
    "        print(\"계좌번호:\", self.account_num)\n",
    "        print(\"잔고:\", f\"{self.balance:,}\")\n",
    "        \n",
    "    def withdraw_history(self):\n",
    "        for amount in self.withdraw_log:\n",
    "            print(amount)\n",
    "\n",
    "    def deposit_history(self):\n",
    "        for amount in self.deposit_log:\n",
    "            print(amount)"
   ]
  },
  {
   "cell_type": "markdown",
   "id": "21a95c1e",
   "metadata": {},
   "source": [
    "281"
   ]
  },
  {
   "cell_type": "code",
   "execution_count": 26,
   "id": "7ac608d0",
   "metadata": {},
   "outputs": [
    {
     "name": "stdout",
     "output_type": "stream",
     "text": [
      "2\n",
      "1000\n"
     ]
    }
   ],
   "source": [
    "class 차:\n",
    "    def __init__(self, 바퀴, 가격):\n",
    "        self.바퀴 = 바퀴\n",
    "        self.가격 = 가격\n",
    "\n",
    "\n",
    "car = 차(2, 1000)\n",
    "print(car.바퀴)\n",
    "print(car.가격)"
   ]
  },
  {
   "cell_type": "markdown",
   "id": "b3f761a7",
   "metadata": {},
   "source": [
    "282"
   ]
  },
  {
   "cell_type": "code",
   "execution_count": null,
   "id": "d9d75006",
   "metadata": {},
   "outputs": [],
   "source": [
    "class 차:\n",
    "    def __init__(self, 바퀴, 가격):\n",
    "        self.바퀴 = 바퀴\n",
    "        self.가격 = 가격\n",
    "        \n",
    "class 자전차(차):\n",
    "    pass"
   ]
  },
  {
   "cell_type": "markdown",
   "id": "0fbfe29d",
   "metadata": {},
   "source": [
    "283"
   ]
  },
  {
   "cell_type": "code",
   "execution_count": 28,
   "id": "82030bd5",
   "metadata": {},
   "outputs": [
    {
     "name": "stdout",
     "output_type": "stream",
     "text": [
      "100\n"
     ]
    }
   ],
   "source": [
    "class 차:\n",
    "    def __init__(self, 바퀴, 가격):\n",
    "        self.바퀴 = 바퀴\n",
    "        self.가격 = 가격\n",
    "        \n",
    "class 자전차(차):\n",
    "    def __init__(self, 바퀴, 가격):\n",
    "        self.바퀴 = 바퀴\n",
    "        self.가격 = 가격\n",
    "        \n",
    "bicycle = 자전차(2, 100)\n",
    "print(bicycle.가격)"
   ]
  },
  {
   "cell_type": "markdown",
   "id": "3683d42c",
   "metadata": {},
   "source": [
    "284"
   ]
  },
  {
   "cell_type": "code",
   "execution_count": 29,
   "id": "380a53a7",
   "metadata": {},
   "outputs": [
    {
     "name": "stdout",
     "output_type": "stream",
     "text": [
      "시마노\n",
      "2\n"
     ]
    }
   ],
   "source": [
    "class 차:\n",
    "    def __init__(self, 바퀴, 가격):\n",
    "        self.바퀴 = 바퀴\n",
    "        self.가격 = 가격\n",
    "        \n",
    "class 자전차(차):\n",
    "    def __init__(self, 바퀴, 가격, 구동계):\n",
    "        self.바퀴 = 바퀴\n",
    "        self.가격 = 가격\n",
    "        self.구동계 = 구동계\n",
    "        \n",
    "bicycle = 자전차(2, 100, \"시마노\")\n",
    "print(bicycle.구동계)\n",
    "print(bicycle.바퀴)"
   ]
  },
  {
   "cell_type": "markdown",
   "id": "f8d6d7c7",
   "metadata": {},
   "source": [
    "285"
   ]
  },
  {
   "cell_type": "code",
   "execution_count": 30,
   "id": "74c7e3f9",
   "metadata": {},
   "outputs": [
    {
     "name": "stdout",
     "output_type": "stream",
     "text": [
      "바퀴수  4\n",
      "가격  1000\n"
     ]
    }
   ],
   "source": [
    "class 차:\n",
    "    def __init__(self, 바퀴, 가격):\n",
    "        self.바퀴 = 바퀴\n",
    "        self.가격 = 가격\n",
    "\n",
    "class 자동차(차):\n",
    "    def __init__(self, 바퀴, 가격):\n",
    "        super().__init__(바퀴, 가격)\n",
    "    \n",
    "    def 정보(self):\n",
    "        print(\"바퀴수 \", self.바퀴)\n",
    "        print(\"가격 \", self.가격)\n",
    "        \n",
    "car = 자동차(4, 1000)\n",
    "car.정보()"
   ]
  },
  {
   "cell_type": "markdown",
   "id": "e873b915",
   "metadata": {},
   "source": [
    "286"
   ]
  },
  {
   "cell_type": "code",
   "execution_count": 32,
   "id": "e9573681",
   "metadata": {},
   "outputs": [
    {
     "name": "stdout",
     "output_type": "stream",
     "text": [
      "바퀴수  2\n",
      "가격  100\n"
     ]
    }
   ],
   "source": [
    "class 차:\n",
    "    def __init__(self, 바퀴, 가격):\n",
    "        self.바퀴 = 바퀴\n",
    "        self.가격 = 가격\n",
    "    \n",
    "    def 정보(self):\n",
    "        print(\"바퀴수 \", self.바퀴)\n",
    "        print(\"가격 \", self.가격)\n",
    "        \n",
    "class 자전차(차):\n",
    "    def __init__(self, 바퀴, 가격, 구동계):\n",
    "        super().__init__(바퀴, 가격)\n",
    "        self.구동계 = 구동계\n",
    "        \n",
    "bicycle = 자전차(2, 100, \"시마노\")\n",
    "bicycle.정보()"
   ]
  },
  {
   "cell_type": "markdown",
   "id": "518bc1aa",
   "metadata": {},
   "source": [
    "287"
   ]
  },
  {
   "cell_type": "code",
   "execution_count": 33,
   "id": "b533f609",
   "metadata": {},
   "outputs": [
    {
     "name": "stdout",
     "output_type": "stream",
     "text": [
      "바퀴수  2\n",
      "가격  100\n",
      "구동계 시마노\n"
     ]
    }
   ],
   "source": [
    "class 차:\n",
    "    def __init__(self, 바퀴, 가격):\n",
    "        self.바퀴 = 바퀴\n",
    "        self.가격 = 가격\n",
    "    \n",
    "    def 정보(self):\n",
    "        print(\"바퀴수 \", self.바퀴)\n",
    "        print(\"가격 \", self.가격)\n",
    "        \n",
    "class 자전차(차):\n",
    "    def __init__(self, 바퀴, 가격, 구동계):\n",
    "        super().__init__(바퀴, 가격)\n",
    "        self.구동계 = 구동계\n",
    "        \n",
    "    def 정보(self):\n",
    "        super().정보()\n",
    "        print(\"구동계\", self.구동계)\n",
    "        \n",
    "bicycle = 자전차(2, 100, \"시마노\")\n",
    "bicycle.정보()"
   ]
  },
  {
   "cell_type": "markdown",
   "id": "c558b0e4",
   "metadata": {},
   "source": [
    "288"
   ]
  },
  {
   "cell_type": "code",
   "execution_count": 34,
   "id": "6de385cf",
   "metadata": {},
   "outputs": [
    {
     "name": "stdout",
     "output_type": "stream",
     "text": [
      "자식호출\n"
     ]
    }
   ],
   "source": [
    "class 부모:\n",
    "  def 호출(self):\n",
    "    print(\"부모호출\")\n",
    "\n",
    "class 자식(부모):\n",
    "  def 호출(self):\n",
    "    print(\"자식호출\")\n",
    "    \n",
    "나 = 자식()\n",
    "나.호출()"
   ]
  },
  {
   "cell_type": "markdown",
   "id": "7ef08dff",
   "metadata": {},
   "source": [
    "289"
   ]
  },
  {
   "cell_type": "code",
   "execution_count": 35,
   "id": "2086bad3",
   "metadata": {},
   "outputs": [
    {
     "name": "stdout",
     "output_type": "stream",
     "text": [
      "자식생성\n"
     ]
    }
   ],
   "source": [
    "class 부모:\n",
    "  def __init__(self):\n",
    "    print(\"부모생성\")\n",
    "\n",
    "class 자식(부모):\n",
    "  def __init__(self):\n",
    "    print(\"자식생성\")\n",
    "\n",
    "나 = 자식()"
   ]
  },
  {
   "cell_type": "markdown",
   "id": "e3e6370b",
   "metadata": {},
   "source": [
    "290"
   ]
  },
  {
   "cell_type": "code",
   "execution_count": 36,
   "id": "0050f4cb",
   "metadata": {},
   "outputs": [
    {
     "name": "stdout",
     "output_type": "stream",
     "text": [
      "자식생성\n",
      "부모생성\n"
     ]
    }
   ],
   "source": [
    "class 부모:\n",
    "  def __init__(self):\n",
    "    print(\"부모생성\")\n",
    "\n",
    "class 자식(부모):\n",
    "  def __init__(self):\n",
    "    print(\"자식생성\")\n",
    "    super().__init__()\n",
    "\n",
    "나 = 자식()"
   ]
  }
 ],
 "metadata": {
  "kernelspec": {
   "display_name": "Python 3 (ipykernel)",
   "language": "python",
   "name": "python3"
  },
  "language_info": {
   "codemirror_mode": {
    "name": "ipython",
    "version": 3
   },
   "file_extension": ".py",
   "mimetype": "text/x-python",
   "name": "python",
   "nbconvert_exporter": "python",
   "pygments_lexer": "ipython3",
   "version": "3.11.7"
  },
  "toc": {
   "base_numbering": 1,
   "nav_menu": {},
   "number_sections": true,
   "sideBar": true,
   "skip_h1_title": false,
   "title_cell": "Table of Contents",
   "title_sidebar": "Contents",
   "toc_cell": false,
   "toc_position": {},
   "toc_section_display": true,
   "toc_window_display": false
  }
 },
 "nbformat": 4,
 "nbformat_minor": 5
}
