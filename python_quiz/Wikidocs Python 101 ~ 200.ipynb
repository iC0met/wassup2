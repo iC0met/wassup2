{
 "cells": [
  {
   "cell_type": "markdown",
   "id": "53227b7e",
   "metadata": {},
   "source": [
    "101"
   ]
  },
  {
   "cell_type": "markdown",
   "id": "03940f6e",
   "metadata": {},
   "source": [
    "bool 타입 -> True, False"
   ]
  },
  {
   "cell_type": "markdown",
   "id": "f718d69b",
   "metadata": {},
   "source": [
    "102 "
   ]
  },
  {
   "cell_type": "code",
   "execution_count": 1,
   "id": "c19ff8fd",
   "metadata": {},
   "outputs": [
    {
     "name": "stdout",
     "output_type": "stream",
     "text": [
      "False\n"
     ]
    }
   ],
   "source": [
    "print(3 == 5)"
   ]
  },
  {
   "cell_type": "markdown",
   "id": "d2733f10",
   "metadata": {},
   "source": [
    "103"
   ]
  },
  {
   "cell_type": "code",
   "execution_count": 2,
   "id": "a15bca29",
   "metadata": {},
   "outputs": [
    {
     "name": "stdout",
     "output_type": "stream",
     "text": [
      "True\n"
     ]
    }
   ],
   "source": [
    "print(3 < 5)"
   ]
  },
  {
   "cell_type": "markdown",
   "id": "5ae61185",
   "metadata": {},
   "source": [
    "104"
   ]
  },
  {
   "cell_type": "code",
   "execution_count": 3,
   "id": "4845319d",
   "metadata": {},
   "outputs": [
    {
     "name": "stdout",
     "output_type": "stream",
     "text": [
      "True\n"
     ]
    }
   ],
   "source": [
    "x = 4\n",
    "print(1 < x < 5)"
   ]
  },
  {
   "cell_type": "markdown",
   "id": "25a8dad1",
   "metadata": {},
   "source": [
    "105"
   ]
  },
  {
   "cell_type": "code",
   "execution_count": 4,
   "id": "2a657b07",
   "metadata": {},
   "outputs": [
    {
     "name": "stdout",
     "output_type": "stream",
     "text": [
      "True\n"
     ]
    }
   ],
   "source": [
    "print((3 == 3) & (4 != 3))"
   ]
  },
  {
   "cell_type": "markdown",
   "id": "f1cf78ce",
   "metadata": {},
   "source": [
    "106"
   ]
  },
  {
   "cell_type": "code",
   "execution_count": null,
   "id": "a1ce1419",
   "metadata": {},
   "outputs": [],
   "source": [
    "print(3 => 4) # 이런 연산자 없음"
   ]
  },
  {
   "cell_type": "markdown",
   "id": "b0b5fb4a",
   "metadata": {},
   "source": [
    "107"
   ]
  },
  {
   "cell_type": "code",
   "execution_count": 5,
   "id": "9cf6203d",
   "metadata": {},
   "outputs": [],
   "source": [
    "if 4 < 3:\n",
    "    print(\"Hello World\")"
   ]
  },
  {
   "cell_type": "markdown",
   "id": "29ff0eaa",
   "metadata": {},
   "source": [
    "108"
   ]
  },
  {
   "cell_type": "code",
   "execution_count": 6,
   "id": "66bb76de",
   "metadata": {},
   "outputs": [
    {
     "name": "stdout",
     "output_type": "stream",
     "text": [
      "Hi, there.\n"
     ]
    }
   ],
   "source": [
    "if 4 < 3:\n",
    "    print(\"Hello World.\")\n",
    "else:\n",
    "    print(\"Hi, there.\")"
   ]
  },
  {
   "cell_type": "markdown",
   "id": "813e6d49",
   "metadata": {},
   "source": [
    "109"
   ]
  },
  {
   "cell_type": "code",
   "execution_count": 7,
   "id": "1190def7",
   "metadata": {},
   "outputs": [
    {
     "name": "stdout",
     "output_type": "stream",
     "text": [
      "1\n",
      "2\n",
      "4\n"
     ]
    }
   ],
   "source": [
    "if True:\n",
    "    print(\"1\")\n",
    "    print(\"2\")\n",
    "else:\n",
    "    print(\"3\")\n",
    "print(\"4\")"
   ]
  },
  {
   "cell_type": "markdown",
   "id": "3999afbd",
   "metadata": {},
   "source": [
    "110"
   ]
  },
  {
   "cell_type": "code",
   "execution_count": 8,
   "id": "189fd923",
   "metadata": {},
   "outputs": [
    {
     "name": "stdout",
     "output_type": "stream",
     "text": [
      "3\n",
      "5\n"
     ]
    }
   ],
   "source": [
    "if True :\n",
    "    if False:\n",
    "        print(\"1\")\n",
    "        print(\"2\")\n",
    "    else:\n",
    "        print(\"3\")\n",
    "else :\n",
    "    print(\"4\")\n",
    "print(\"5\")"
   ]
  },
  {
   "cell_type": "markdown",
   "id": "9d34e16b",
   "metadata": {},
   "source": [
    "111"
   ]
  },
  {
   "cell_type": "code",
   "execution_count": 10,
   "id": "dd954a59",
   "metadata": {},
   "outputs": [
    {
     "name": "stdout",
     "output_type": "stream",
     "text": [
      "입력: 안녕하세요\n",
      "안녕하세요안녕하세요\n"
     ]
    }
   ],
   "source": [
    "hi = input(\"입력: \")\n",
    "print(hi * 2)"
   ]
  },
  {
   "cell_type": "markdown",
   "id": "a4f6c0b8",
   "metadata": {},
   "source": [
    "112"
   ]
  },
  {
   "cell_type": "code",
   "execution_count": 12,
   "id": "e394fd8d",
   "metadata": {},
   "outputs": [
    {
     "name": "stdout",
     "output_type": "stream",
     "text": [
      "숫자를 입력하세요: 30\n",
      "40\n"
     ]
    }
   ],
   "source": [
    "num = input(\"숫자를 입력하세요: \")\n",
    "print(int(num) + 10)"
   ]
  },
  {
   "cell_type": "markdown",
   "id": "b14f6e9a",
   "metadata": {},
   "source": [
    "113"
   ]
  },
  {
   "cell_type": "code",
   "execution_count": 14,
   "id": "0c2d9ffa",
   "metadata": {},
   "outputs": [
    {
     "name": "stdout",
     "output_type": "stream",
     "text": [
      "정수를 입력하세요: 30\n",
      "짝수\n"
     ]
    }
   ],
   "source": [
    "num = input(\"정수를 입력하세요: \")\n",
    "if int(num) % 2 == 0:\n",
    "    print(\"짝수\")\n",
    "else:\n",
    "    print(\"홀수\")"
   ]
  },
  {
   "cell_type": "markdown",
   "id": "8f13ce7b",
   "metadata": {},
   "source": [
    "114"
   ]
  },
  {
   "cell_type": "code",
   "execution_count": 18,
   "id": "5d13edd4",
   "metadata": {},
   "outputs": [
    {
     "name": "stdout",
     "output_type": "stream",
     "text": [
      "정수를 입력하세요: 256\n",
      "255\n"
     ]
    }
   ],
   "source": [
    "num = input(\"정수를 입력하세요: \")\n",
    "if int(num) > 255:\n",
    "    print(255)\n",
    "else:\n",
    "    print(int(num) + 20)"
   ]
  },
  {
   "cell_type": "markdown",
   "id": "a53681c8",
   "metadata": {},
   "source": [
    "115"
   ]
  },
  {
   "cell_type": "code",
   "execution_count": 21,
   "id": "03c775ac",
   "metadata": {},
   "outputs": [
    {
     "name": "stdout",
     "output_type": "stream",
     "text": [
      "입력: -1\n",
      "0\n"
     ]
    }
   ],
   "source": [
    "num = input(\"입력: \")\n",
    "if 0 <= int(num) - 20 <= 255:\n",
    "    print(int(num) - 20)\n",
    "elif int(num) - 20 < 0:\n",
    "    print(0)\n",
    "else:\n",
    "    print(255)"
   ]
  },
  {
   "cell_type": "markdown",
   "id": "2b878ac1",
   "metadata": {},
   "source": [
    "116"
   ]
  },
  {
   "cell_type": "code",
   "execution_count": 23,
   "id": "0fa1c9bd",
   "metadata": {},
   "outputs": [
    {
     "name": "stdout",
     "output_type": "stream",
     "text": [
      "현재시간: 1200\n",
      "정각입니다.\n"
     ]
    }
   ],
   "source": [
    "time = input(\"현재시간: \")\n",
    "if time[-2:] == \"00\":\n",
    "    print(\"정각입니다.\")\n",
    "else:\n",
    "    print(\"정각이 아닙니다.\")"
   ]
  },
  {
   "cell_type": "markdown",
   "id": "bba05ae9",
   "metadata": {},
   "source": [
    "117"
   ]
  },
  {
   "cell_type": "code",
   "execution_count": 26,
   "id": "8a6e4b50",
   "metadata": {},
   "outputs": [
    {
     "name": "stdout",
     "output_type": "stream",
     "text": [
      "OO이가 좋아하는 과일은? 샤인머스캣\n",
      "오답입니다.\n"
     ]
    }
   ],
   "source": [
    "fruit = [\"사과\", \"포도\", \"홍시\"]\n",
    "fav = input(\"OO이가 좋아하는 과일은? \")\n",
    "if fav in fruit:\n",
    "    print(\"정답입니다.\")\n",
    "else:\n",
    "    print(\"오답입니다.\")"
   ]
  },
  {
   "cell_type": "markdown",
   "id": "a1f6082a",
   "metadata": {},
   "source": [
    "118"
   ]
  },
  {
   "cell_type": "code",
   "execution_count": 34,
   "id": "9a66bc57",
   "metadata": {},
   "outputs": [
    {
     "name": "stdout",
     "output_type": "stream",
     "text": [
      "종목명 조회: NAVER\n",
      "투자 경고 종목입니다.\n"
     ]
    }
   ],
   "source": [
    "warn_investment_list = [\"Microsoft\", \"Google\", \"Naver\", \"Kakao\", \"SAMSUNG\", \"LG\"]\n",
    "item = input(\"종목명 조회: \")\n",
    "item_lower = item.lower()\n",
    "\n",
    "if item_lower in map(str.lower, warn_investment_list):\n",
    "    print(\"투자 경고 종목입니다.\")\n",
    "else:\n",
    "    print(\"투자 경고 종목이 아닙니다.\")"
   ]
  },
  {
   "cell_type": "markdown",
   "id": "ad0b4318",
   "metadata": {},
   "source": [
    "119"
   ]
  },
  {
   "cell_type": "code",
   "execution_count": 37,
   "id": "09df520a",
   "metadata": {},
   "outputs": [
    {
     "name": "stdout",
     "output_type": "stream",
     "text": [
      "ㅇㅇ이가 좋아하는 계절은? 여름\n",
      "정답입니다.\n"
     ]
    }
   ],
   "source": [
    "fruit = {\"봄\" : \"딸기\", \"여름\" : \"토마토\", \"가을\" : \"사과\"}\n",
    "key_in = input(\"ㅇㅇ이가 좋아하는 계절은? \")\n",
    "if key_in in fruit.keys():\n",
    "    print(\"정답입니다.\")\n",
    "else:\n",
    "    print(\"오답입니다.\")"
   ]
  },
  {
   "cell_type": "markdown",
   "id": "4d824f21",
   "metadata": {},
   "source": [
    "120"
   ]
  },
  {
   "cell_type": "code",
   "execution_count": 36,
   "id": "1d3d6506",
   "metadata": {},
   "outputs": [
    {
     "name": "stdout",
     "output_type": "stream",
     "text": [
      "ㅇㅇ이가 좋아하는 과일은? 딸기\n",
      "정답입니다.\n"
     ]
    }
   ],
   "source": [
    "fruit = {\"봄\" : \"딸기\", \"여름\" : \"토마토\", \"가을\" : \"사과\"}\n",
    "value_in = input(\"ㅇㅇ이가 좋아하는 과일은? \")\n",
    "if value_in in fruit.values():\n",
    "    print(\"정답입니다.\")\n",
    "else:\n",
    "    print(\"오답입니다.\")"
   ]
  },
  {
   "cell_type": "markdown",
   "id": "a7eaed2b",
   "metadata": {},
   "source": [
    "121"
   ]
  },
  {
   "cell_type": "code",
   "execution_count": 41,
   "id": "1c06c3fb",
   "metadata": {},
   "outputs": [
    {
     "name": "stdout",
     "output_type": "stream",
     "text": [
      "A\n",
      "a\n"
     ]
    }
   ],
   "source": [
    "alphabet = input()\n",
    "if alphabet.islower():\n",
    "    print(alphabet.upper())\n",
    "else:\n",
    "    print(alphabet.lower())"
   ]
  },
  {
   "cell_type": "markdown",
   "id": "4e00d2bf",
   "metadata": {},
   "source": [
    "122"
   ]
  },
  {
   "cell_type": "code",
   "execution_count": 42,
   "id": "d9046a8a",
   "metadata": {},
   "outputs": [
    {
     "name": "stdout",
     "output_type": "stream",
     "text": [
      "score: 100\n",
      "grade is A\n"
     ]
    }
   ],
   "source": [
    "score = input(\"score: \")\n",
    "score = int(score)\n",
    "if 81 <= score <= 100:\n",
    "    print(\"grade is A\")\n",
    "elif 61 <= score <= 80:\n",
    "    print(\"grade is B\")\n",
    "elif 41 <= score <= 60:\n",
    "    print(\"grade is C\")\n",
    "elif 21 <= score <= 40:\n",
    "    print(\"grade is D\")\n",
    "else:\n",
    "    print(\"grade is E\")"
   ]
  },
  {
   "cell_type": "markdown",
   "id": "5696a23c",
   "metadata": {},
   "source": [
    "123"
   ]
  },
  {
   "cell_type": "code",
   "execution_count": 68,
   "id": "9810535a",
   "metadata": {},
   "outputs": [
    {
     "name": "stdout",
     "output_type": "stream",
     "text": [
      "입력: 600 유로\n",
      "760800.0 원\n"
     ]
    }
   ],
   "source": [
    "환율 = {\"달러\": 1167, \n",
    "        \"엔\": 1.096, \n",
    "        \"유로\": 1268, \n",
    "        \"위안\": 171}\n",
    "money = input(\"입력: \")\n",
    "num, currency = money.split()\n",
    "print(float(num) * 환율[currency], \"원\")"
   ]
  },
  {
   "cell_type": "markdown",
   "id": "b338f7c4",
   "metadata": {},
   "source": [
    "124"
   ]
  },
  {
   "cell_type": "code",
   "execution_count": 70,
   "id": "35b891a1",
   "metadata": {},
   "outputs": [
    {
     "name": "stdout",
     "output_type": "stream",
     "text": [
      "첫번째 정수를 입력하세요: 1\n",
      "두번째 정수를 입력하세요: 2\n",
      "세번째 정수를 입력하세요: 3\n",
      "3\n"
     ]
    }
   ],
   "source": [
    "num1 = int(input(\"첫번째 정수를 입력하세요: \"))\n",
    "num2 = int(input(\"두번째 정수를 입력하세요: \"))\n",
    "num3 = int(input(\"세번째 정수를 입력하세요: \"))\n",
    "max_num = max(num1, num2, num3)\n",
    "print(max_num)"
   ]
  },
  {
   "cell_type": "markdown",
   "id": "40b22628",
   "metadata": {},
   "source": [
    "125"
   ]
  },
  {
   "cell_type": "code",
   "execution_count": 74,
   "id": "1f193fee",
   "metadata": {},
   "outputs": [
    {
     "name": "stdout",
     "output_type": "stream",
     "text": [
      "휴대전화 번호 입력(- 생략): 019\n",
      "당신은 LGU+ 사용자입니다.\n"
     ]
    }
   ],
   "source": [
    "p_num = input(\"휴대전화 번호 입력(- 생략): \")\n",
    "num = p_num[:3]\n",
    "if num == \"011\":\n",
    "    tel = \"SKT\"\n",
    "elif num == \"016\":\n",
    "    tel = \"KT\"\n",
    "elif num == \"019\":\n",
    "    tel = \"LGU+\"\n",
    "else:\n",
    "    tel = \"알수없음\"\n",
    "print(f\"당신은 {tel} 사용자입니다.\")"
   ]
  },
  {
   "cell_type": "markdown",
   "id": "cbcf12a1",
   "metadata": {},
   "source": [
    "126"
   ]
  },
  {
   "cell_type": "code",
   "execution_count": 76,
   "id": "1c91517c",
   "metadata": {},
   "outputs": [
    {
     "name": "stdout",
     "output_type": "stream",
     "text": [
      "우편번호(01xxx): 01678\n",
      "노원구\n"
     ]
    }
   ],
   "source": [
    "p_num = input(\"우편번호(01xxx): \")\n",
    "num = p_num[2]\n",
    "if num in [0, 1, 2]:\n",
    "    print(\"강북구\")\n",
    "elif num in [3, 4, 5]:\n",
    "    print(\"도봉구\")\n",
    "else:\n",
    "    print(\"노원구\")"
   ]
  },
  {
   "cell_type": "markdown",
   "id": "44858c8b",
   "metadata": {},
   "source": [
    "127"
   ]
  },
  {
   "cell_type": "code",
   "execution_count": 79,
   "id": "47e4c2b7",
   "metadata": {},
   "outputs": [
    {
     "name": "stdout",
     "output_type": "stream",
     "text": [
      "주민등록번호(- 포함): 001208-3000000\n",
      "남자\n"
     ]
    }
   ],
   "source": [
    "id = input(\"주민등록번호(- 포함): \")\n",
    "sex = int(id[-7]) # 문자열과 정수 구분 !\n",
    "if sex in [1, 3]:\n",
    "    print(\"남자\")\n",
    "else:\n",
    "    print(\"여자\")"
   ]
  },
  {
   "cell_type": "markdown",
   "id": "b485564c",
   "metadata": {},
   "source": [
    "128"
   ]
  },
  {
   "cell_type": "code",
   "execution_count": 82,
   "id": "75c85621",
   "metadata": {},
   "outputs": [
    {
     "name": "stdout",
     "output_type": "stream",
     "text": [
      "주민등록번호(- 포함): 001208-3050000\n",
      "서울입니다.\n"
     ]
    }
   ],
   "source": [
    "id = input(\"주민등록번호(- 포함): \")\n",
    "city = int(id[-5])\n",
    "if city in range(0, 9):\n",
    "    print(\"서울입니다.\")\n",
    "else:\n",
    "    print(\"서울이 아닙니다.\")"
   ]
  },
  {
   "cell_type": "markdown",
   "id": "1ee57ef3",
   "metadata": {},
   "source": [
    "129"
   ]
  },
  {
   "cell_type": "code",
   "execution_count": 85,
   "id": "3232ac78",
   "metadata": {},
   "outputs": [
    {
     "name": "stdout",
     "output_type": "stream",
     "text": [
      "주민등록번호: 001208-3513253\n",
      "유효하지 않은 주민등록번호입니다.\n"
     ]
    }
   ],
   "source": [
    "num = input(\"주민등록번호: \")\n",
    "계산1 = int(num[0]) * 2 + int(num[1]) * 3 + int(num[2]) * 4 + int(num[3]) * 5 + int(num[4]) * 6 + \\\n",
    "        int(num[5]) * 7 + int(num[7]) * 8 + int(num[8]) * 9 + int(num[9]) * 2 + int(num[10])* 3 + \\\n",
    "        int(num[11])* 4 + int(num[12]) * 5\n",
    "계산2 = 11 - (계산1 % 11)\n",
    "계산3 = str(계산2)\n",
    "\n",
    "if num[-1] == 계산3[-1]:\n",
    "    print(\"유효한 주민등록번호입니다.\")\n",
    "else:\n",
    "    print(\"유효하지 않은 주민등록번호입니다.\")"
   ]
  },
  {
   "cell_type": "markdown",
   "id": "d3967ad5",
   "metadata": {},
   "source": [
    "130"
   ]
  },
  {
   "cell_type": "code",
   "execution_count": 88,
   "id": "17b37278",
   "metadata": {},
   "outputs": [
    {
     "name": "stdout",
     "output_type": "stream",
     "text": [
      "상승장\n"
     ]
    }
   ],
   "source": [
    "import requests\n",
    "btc = requests.get(\"https://api.bithumb.com/public/ticker/\").json()['data']\n",
    "\n",
    "변동폭 = float(btc['max_price']) - float(btc['min_price'])\n",
    "시가 = float(btc['opening_price'])\n",
    "최고가 = float(btc['max_price'])\n",
    "\n",
    "if (시가 + 변동폭) > 최고가:\n",
    "    print(\"상승장\")\n",
    "else:\n",
    "    print(\"하락장\")"
   ]
  },
  {
   "cell_type": "markdown",
   "id": "29fac112",
   "metadata": {},
   "source": [
    "131"
   ]
  },
  {
   "cell_type": "code",
   "execution_count": 43,
   "id": "102db78a",
   "metadata": {},
   "outputs": [
    {
     "name": "stdout",
     "output_type": "stream",
     "text": [
      "사과\n",
      "귤\n",
      "수박\n"
     ]
    }
   ],
   "source": [
    "fruit = [\"사과\", \"귤\", \"수박\"]\n",
    "for vir in fruit:\n",
    "    print(vir)"
   ]
  },
  {
   "cell_type": "markdown",
   "id": "9b8e34fd",
   "metadata": {},
   "source": [
    "132"
   ]
  },
  {
   "cell_type": "code",
   "execution_count": 44,
   "id": "568e2fa1",
   "metadata": {},
   "outputs": [
    {
     "name": "stdout",
     "output_type": "stream",
     "text": [
      "#####\n",
      "#####\n",
      "#####\n"
     ]
    }
   ],
   "source": [
    "fruit = [\"사과\", \"귤\", \"수박\"]\n",
    "for vir in fruit:\n",
    "  print(\"#####\")"
   ]
  },
  {
   "cell_type": "markdown",
   "id": "98f19f46",
   "metadata": {},
   "source": [
    "133"
   ]
  },
  {
   "cell_type": "code",
   "execution_count": 45,
   "id": "de7c59a0",
   "metadata": {},
   "outputs": [
    {
     "name": "stdout",
     "output_type": "stream",
     "text": [
      "A\n",
      "B\n",
      "C\n"
     ]
    }
   ],
   "source": [
    "변수 = \"A\"\n",
    "print(변수)\n",
    "변수 = \"B\"\n",
    "print(변수)\n",
    "변수 = \"C\"\n",
    "print(변수)"
   ]
  },
  {
   "cell_type": "markdown",
   "id": "1e7918be",
   "metadata": {},
   "source": [
    "134"
   ]
  },
  {
   "cell_type": "code",
   "execution_count": 46,
   "id": "12bb9fbe",
   "metadata": {},
   "outputs": [
    {
     "name": "stdout",
     "output_type": "stream",
     "text": [
      "출력: A\n",
      "출력: B\n",
      "출력: C\n"
     ]
    }
   ],
   "source": [
    "변수 = \"A\"\n",
    "print(\"출력:\", 변수)\n",
    "변수 = \"B\"\n",
    "print(\"출력:\", 변수)\n",
    "변수 = \"C\"\n",
    "print(\"출력:\", 변수)"
   ]
  },
  {
   "cell_type": "markdown",
   "id": "2604c355",
   "metadata": {},
   "source": [
    "135"
   ]
  },
  {
   "cell_type": "code",
   "execution_count": 47,
   "id": "c11c9791",
   "metadata": {},
   "outputs": [
    {
     "name": "stdout",
     "output_type": "stream",
     "text": [
      "변환: a\n",
      "변환: b\n",
      "변환: c\n"
     ]
    }
   ],
   "source": [
    "변수 = \"A\"\n",
    "b = 변수.lower()\n",
    "print(\"변환:\", b)\n",
    "변수 = \"B\"\n",
    "b = 변수.lower()\n",
    "print(\"변환:\", b)\n",
    "변수 = \"C\"\n",
    "b = 변수.lower()\n",
    "print(\"변환:\", b)"
   ]
  },
  {
   "cell_type": "markdown",
   "id": "1a9dbdaa",
   "metadata": {},
   "source": [
    "136"
   ]
  },
  {
   "cell_type": "code",
   "execution_count": 48,
   "id": "bd7f6a02",
   "metadata": {},
   "outputs": [
    {
     "name": "stdout",
     "output_type": "stream",
     "text": [
      "10\n",
      "20\n",
      "30\n"
     ]
    }
   ],
   "source": [
    "for 변수 in [10, 20, 30]:\n",
    "    print(변수)"
   ]
  },
  {
   "cell_type": "markdown",
   "id": "365e15c7",
   "metadata": {},
   "source": [
    "137"
   ]
  },
  {
   "cell_type": "code",
   "execution_count": 49,
   "id": "413a2805",
   "metadata": {},
   "outputs": [
    {
     "name": "stdout",
     "output_type": "stream",
     "text": [
      "10\n",
      "20\n",
      "30\n"
     ]
    }
   ],
   "source": [
    "for 변수 in [10, 20, 30]:\n",
    "    print(변수)"
   ]
  },
  {
   "cell_type": "markdown",
   "id": "406079f6",
   "metadata": {},
   "source": [
    "138"
   ]
  },
  {
   "cell_type": "code",
   "execution_count": 52,
   "id": "c17a5feb",
   "metadata": {},
   "outputs": [
    {
     "name": "stdout",
     "output_type": "stream",
     "text": [
      "10\n",
      "-------\n",
      "20\n",
      "-------\n",
      "30\n",
      "-------\n"
     ]
    }
   ],
   "source": [
    "for 변수 in [10, 20, 30]:\n",
    "    print(변수)\n",
    "    print(\"-------\")"
   ]
  },
  {
   "cell_type": "markdown",
   "id": "03afef82",
   "metadata": {},
   "source": [
    "139"
   ]
  },
  {
   "cell_type": "code",
   "execution_count": 53,
   "id": "c602ff8e",
   "metadata": {},
   "outputs": [
    {
     "name": "stdout",
     "output_type": "stream",
     "text": [
      "++++\n",
      "10\n",
      "20\n",
      "30\n"
     ]
    }
   ],
   "source": [
    "print(\"++++\")\n",
    "for 변수 in [10, 20, 30]:\n",
    "    print(변수)"
   ]
  },
  {
   "cell_type": "markdown",
   "id": "d0a3d6ca",
   "metadata": {},
   "source": [
    "140"
   ]
  },
  {
   "cell_type": "code",
   "execution_count": 54,
   "id": "f7c57546",
   "metadata": {},
   "outputs": [
    {
     "name": "stdout",
     "output_type": "stream",
     "text": [
      "-------\n",
      "-------\n",
      "-------\n",
      "-------\n"
     ]
    }
   ],
   "source": [
    "for 변수 in [1, 2, 3, 4]:\n",
    "    print(\"-------\")"
   ]
  },
  {
   "cell_type": "markdown",
   "id": "efd377a7",
   "metadata": {},
   "source": [
    "141"
   ]
  },
  {
   "cell_type": "code",
   "execution_count": 55,
   "id": "ba6eec12",
   "metadata": {},
   "outputs": [
    {
     "name": "stdout",
     "output_type": "stream",
     "text": [
      "110\n",
      "210\n",
      "310\n"
     ]
    }
   ],
   "source": [
    "리스트 = [100, 200, 300]\n",
    "for charge in 리스트:\n",
    "    print(charge + 10)"
   ]
  },
  {
   "cell_type": "markdown",
   "id": "77d6c76f",
   "metadata": {},
   "source": [
    "142 "
   ]
  },
  {
   "cell_type": "code",
   "execution_count": 56,
   "id": "fbe1beee",
   "metadata": {},
   "outputs": [
    {
     "name": "stdout",
     "output_type": "stream",
     "text": [
      "오늘의 메뉴: 김밥\n",
      "오늘의 메뉴: 라면\n",
      "오늘의 메뉴: 튀김\n"
     ]
    }
   ],
   "source": [
    "리스트 = [\"김밥\", \"라면\", \"튀김\"]\n",
    "for 메뉴 in 리스트:\n",
    "    print(\"오늘의 메뉴:\", 메뉴)"
   ]
  },
  {
   "cell_type": "markdown",
   "id": "c9e400a6",
   "metadata": {},
   "source": [
    "143"
   ]
  },
  {
   "cell_type": "code",
   "execution_count": 57,
   "id": "ae256711",
   "metadata": {},
   "outputs": [
    {
     "name": "stdout",
     "output_type": "stream",
     "text": [
      "6\n",
      "4\n",
      "4\n"
     ]
    }
   ],
   "source": [
    "리스트 = [\"SK하이닉스\", \"삼성전자\", \"LG전자\"]\n",
    "for le in 리스트:\n",
    "    print(len(le))"
   ]
  },
  {
   "cell_type": "markdown",
   "id": "c0e48400",
   "metadata": {},
   "source": [
    "144"
   ]
  },
  {
   "cell_type": "code",
   "execution_count": 59,
   "id": "8e3ce696",
   "metadata": {},
   "outputs": [
    {
     "name": "stdout",
     "output_type": "stream",
     "text": [
      "dog 3\n",
      "cat 3\n",
      "parrot 6\n"
     ]
    }
   ],
   "source": [
    "리스트 = ['dog', 'cat', 'parrot']\n",
    "for name in 리스트:\n",
    "    print(name, len(name))"
   ]
  },
  {
   "cell_type": "markdown",
   "id": "72cfa135",
   "metadata": {},
   "source": [
    "145"
   ]
  },
  {
   "cell_type": "code",
   "execution_count": 60,
   "id": "bc6bc199",
   "metadata": {},
   "outputs": [
    {
     "name": "stdout",
     "output_type": "stream",
     "text": [
      "d\n",
      "c\n",
      "p\n"
     ]
    }
   ],
   "source": [
    "리스트 = ['dog', 'cat', 'parrot']\n",
    "for name in 리스트:\n",
    "    print(name[0])"
   ]
  },
  {
   "cell_type": "markdown",
   "id": "3c64d994",
   "metadata": {},
   "source": [
    "146"
   ]
  },
  {
   "cell_type": "code",
   "execution_count": 61,
   "id": "a160faec",
   "metadata": {},
   "outputs": [
    {
     "name": "stdout",
     "output_type": "stream",
     "text": [
      "3 x 1\n",
      "3 x 2\n",
      "3 x 3\n"
     ]
    }
   ],
   "source": [
    "리스트 = [1, 2, 3]\n",
    "for i in 리스트:\n",
    "    print(\"3 x \" + str(i))"
   ]
  },
  {
   "cell_type": "markdown",
   "id": "3f80e496",
   "metadata": {},
   "source": [
    "147"
   ]
  },
  {
   "cell_type": "code",
   "execution_count": 63,
   "id": "c9dc6314",
   "metadata": {},
   "outputs": [
    {
     "name": "stdout",
     "output_type": "stream",
     "text": [
      "3 x 1 = 3\n",
      "3 x 2 = 6\n",
      "3 x 3 = 9\n"
     ]
    }
   ],
   "source": [
    "리스트 = [1, 2, 3]\n",
    "for i in 리스트:\n",
    "    print(f\"3 x {i} = {3 * i}\")"
   ]
  },
  {
   "cell_type": "markdown",
   "id": "70eab01d",
   "metadata": {},
   "source": [
    "148"
   ]
  },
  {
   "cell_type": "code",
   "execution_count": 64,
   "id": "26614801",
   "metadata": {},
   "outputs": [
    {
     "name": "stdout",
     "output_type": "stream",
     "text": [
      "나\n",
      "다\n",
      "라\n"
     ]
    }
   ],
   "source": [
    "리스트 = [\"가\", \"나\", \"다\", \"라\"]\n",
    "for i in 리스트[1:]:\n",
    "    print(i)"
   ]
  },
  {
   "cell_type": "markdown",
   "id": "ff2caea1",
   "metadata": {},
   "source": [
    "149"
   ]
  },
  {
   "cell_type": "code",
   "execution_count": 65,
   "id": "cabf3707",
   "metadata": {},
   "outputs": [
    {
     "name": "stdout",
     "output_type": "stream",
     "text": [
      "가\n",
      "다\n"
     ]
    }
   ],
   "source": [
    "리스트 = [\"가\", \"나\", \"다\", \"라\"]\n",
    "for i in 리스트[::2]:\n",
    "    print(i)"
   ]
  },
  {
   "cell_type": "markdown",
   "id": "c35895a5",
   "metadata": {},
   "source": [
    "150"
   ]
  },
  {
   "cell_type": "code",
   "execution_count": 66,
   "id": "6df4a0c6",
   "metadata": {},
   "outputs": [
    {
     "name": "stdout",
     "output_type": "stream",
     "text": [
      "라\n",
      "다\n",
      "나\n",
      "가\n"
     ]
    }
   ],
   "source": [
    "리스트 = [\"가\", \"나\", \"다\", \"라\"]\n",
    "for i in 리스트[: :-1]:\n",
    "    print(i)"
   ]
  },
  {
   "cell_type": "markdown",
   "id": "7c3a3a64",
   "metadata": {},
   "source": [
    "151"
   ]
  },
  {
   "cell_type": "code",
   "execution_count": 89,
   "id": "209bd63d",
   "metadata": {},
   "outputs": [
    {
     "name": "stdout",
     "output_type": "stream",
     "text": [
      "-20\n",
      "-3\n"
     ]
    }
   ],
   "source": [
    "리스트 = [3, -20, -3, 44]\n",
    "for i in 리스트:\n",
    "    if i < 0:\n",
    "        print(i)"
   ]
  },
  {
   "cell_type": "markdown",
   "id": "484bc13d",
   "metadata": {},
   "source": [
    "152"
   ]
  },
  {
   "cell_type": "code",
   "execution_count": 90,
   "id": "91e75ed1",
   "metadata": {},
   "outputs": [
    {
     "name": "stdout",
     "output_type": "stream",
     "text": [
      "3\n"
     ]
    }
   ],
   "source": [
    "리스트 = [3, 100, 23, 44]\n",
    "for i in 리스트:\n",
    "    if i % 3 == 0:\n",
    "        print(i)"
   ]
  },
  {
   "cell_type": "markdown",
   "id": "9876176f",
   "metadata": {},
   "source": [
    "153"
   ]
  },
  {
   "cell_type": "code",
   "execution_count": 92,
   "id": "7d073b0b",
   "metadata": {},
   "outputs": [
    {
     "name": "stdout",
     "output_type": "stream",
     "text": [
      "12\n",
      "18\n"
     ]
    }
   ],
   "source": [
    "리스트 = [13, 21, 12, 14, 30, 18]\n",
    "for i in 리스트:\n",
    "    if i % 3 == 0 and i < 20:\n",
    "        print(i)"
   ]
  },
  {
   "cell_type": "markdown",
   "id": "1c86a4e0",
   "metadata": {},
   "source": [
    "154"
   ]
  },
  {
   "cell_type": "code",
   "execution_count": 93,
   "id": "c097be3c",
   "metadata": {},
   "outputs": [
    {
     "name": "stdout",
     "output_type": "stream",
     "text": [
      "study\n",
      "python\n",
      "language\n"
     ]
    }
   ],
   "source": [
    "리스트 = [\"I\", \"study\", \"python\", \"language\", \"!\"]\n",
    "for i in 리스트:\n",
    "    if len(i) >= 3:\n",
    "        print(i)"
   ]
  },
  {
   "cell_type": "markdown",
   "id": "bb7df83e",
   "metadata": {},
   "source": [
    "155"
   ]
  },
  {
   "cell_type": "code",
   "execution_count": 94,
   "id": "c8690401",
   "metadata": {},
   "outputs": [
    {
     "name": "stdout",
     "output_type": "stream",
     "text": [
      "A\n",
      "D\n"
     ]
    }
   ],
   "source": [
    "리스트 = [\"A\", \"b\", \"c\", \"D\"]\n",
    "for i in 리스트:\n",
    "    if i.isupper():\n",
    "        print(i)"
   ]
  },
  {
   "cell_type": "markdown",
   "id": "d4f547ca",
   "metadata": {},
   "source": [
    "156"
   ]
  },
  {
   "cell_type": "code",
   "execution_count": 95,
   "id": "76cdef5d",
   "metadata": {},
   "outputs": [
    {
     "name": "stdout",
     "output_type": "stream",
     "text": [
      "b\n",
      "c\n"
     ]
    }
   ],
   "source": [
    "리스트 = [\"A\", \"b\", \"c\", \"D\"]\n",
    "for i in 리스트:\n",
    "    if i.islower():\n",
    "        print(i)"
   ]
  },
  {
   "cell_type": "markdown",
   "id": "d50d7f84",
   "metadata": {},
   "source": [
    "157"
   ]
  },
  {
   "cell_type": "code",
   "execution_count": 96,
   "id": "677a5713",
   "metadata": {},
   "outputs": [
    {
     "name": "stdout",
     "output_type": "stream",
     "text": [
      "Dog\n",
      "Cat\n",
      "Parrot\n"
     ]
    }
   ],
   "source": [
    "리스트 = ['dog', 'cat', 'parrot']\n",
    "for i in 리스트:\n",
    "    print(i.title())"
   ]
  },
  {
   "cell_type": "markdown",
   "id": "c24c592f",
   "metadata": {},
   "source": [
    "158"
   ]
  },
  {
   "cell_type": "code",
   "execution_count": 99,
   "id": "786f78e1",
   "metadata": {},
   "outputs": [
    {
     "name": "stdout",
     "output_type": "stream",
     "text": [
      "hello\n",
      "ex01\n",
      "intro\n"
     ]
    }
   ],
   "source": [
    "리스트 = ['hello.py', 'ex01.py', 'intro.hwp']\n",
    "for i in 리스트:\n",
    "    i = i.split(\".\")\n",
    "    print(i[0])"
   ]
  },
  {
   "cell_type": "markdown",
   "id": "c3c12944",
   "metadata": {},
   "source": [
    "159"
   ]
  },
  {
   "cell_type": "code",
   "execution_count": 101,
   "id": "032f18b2",
   "metadata": {},
   "outputs": [
    {
     "name": "stdout",
     "output_type": "stream",
     "text": [
      "intra.h\n",
      "define.h\n"
     ]
    }
   ],
   "source": [
    "리스트 = ['intra.h', 'intra.c', 'define.h', 'run.py']\n",
    "for i in 리스트:\n",
    "    if i.endswith(\".h\"):\n",
    "        print(i)"
   ]
  },
  {
   "cell_type": "markdown",
   "id": "039dfdf8",
   "metadata": {},
   "source": [
    "160"
   ]
  },
  {
   "cell_type": "code",
   "execution_count": 102,
   "id": "b3f1424d",
   "metadata": {},
   "outputs": [
    {
     "name": "stdout",
     "output_type": "stream",
     "text": [
      "intra.h\n",
      "intra.c\n",
      "define.h\n"
     ]
    }
   ],
   "source": [
    "리스트 = ['intra.h', 'intra.c', 'define.h', 'run.py']\n",
    "for i in 리스트:\n",
    "    if i.endswith(\".h\") or i.endswith(\".c\"):\n",
    "        print(i)"
   ]
  },
  {
   "cell_type": "markdown",
   "id": "df940e44",
   "metadata": {},
   "source": [
    "161"
   ]
  },
  {
   "cell_type": "code",
   "execution_count": null,
   "id": "bd9a9594",
   "metadata": {},
   "outputs": [],
   "source": [
    "for i in range(0, 100):\n",
    "    print(i)"
   ]
  },
  {
   "cell_type": "markdown",
   "id": "41ae0e82",
   "metadata": {},
   "source": [
    "162"
   ]
  },
  {
   "cell_type": "code",
   "execution_count": 104,
   "id": "c965f034",
   "metadata": {},
   "outputs": [
    {
     "name": "stdout",
     "output_type": "stream",
     "text": [
      "2002 2006 2010 2014 2018 2022 2026 2030 2034 2038 2042 2046 2050 "
     ]
    }
   ],
   "source": [
    "for i in range(2002, 2051, 4):\n",
    "    print(i, end=\" \")"
   ]
  },
  {
   "cell_type": "markdown",
   "id": "6ff9afdf",
   "metadata": {},
   "source": [
    "163"
   ]
  },
  {
   "cell_type": "code",
   "execution_count": 106,
   "id": "16898106",
   "metadata": {},
   "outputs": [
    {
     "name": "stdout",
     "output_type": "stream",
     "text": [
      "3 6 9 12 15 18 21 24 27 30 "
     ]
    }
   ],
   "source": [
    "for i in range(3, 31, 3):\n",
    "    print(i, end=\" \")"
   ]
  },
  {
   "cell_type": "markdown",
   "id": "d53fc8c6",
   "metadata": {},
   "source": [
    "164"
   ]
  },
  {
   "cell_type": "code",
   "execution_count": null,
   "id": "4219dbeb",
   "metadata": {},
   "outputs": [],
   "source": [
    "for i in range(100):\n",
    "    print(99 - i)"
   ]
  },
  {
   "cell_type": "markdown",
   "id": "0107f58f",
   "metadata": {},
   "source": [
    "165"
   ]
  },
  {
   "cell_type": "code",
   "execution_count": 111,
   "id": "3a76dd74",
   "metadata": {},
   "outputs": [
    {
     "name": "stdout",
     "output_type": "stream",
     "text": [
      "0.0\n",
      "0.1\n",
      "0.2\n",
      "0.3\n",
      "0.4\n",
      "0.5\n",
      "0.6\n",
      "0.7\n",
      "0.8\n",
      "0.9\n"
     ]
    }
   ],
   "source": [
    "for i in range(10):\n",
    "    print(i / 10)"
   ]
  },
  {
   "cell_type": "markdown",
   "id": "c1ff7c83",
   "metadata": {},
   "source": [
    "166"
   ]
  },
  {
   "cell_type": "code",
   "execution_count": 112,
   "id": "53ae4471",
   "metadata": {},
   "outputs": [
    {
     "name": "stdout",
     "output_type": "stream",
     "text": [
      "3x1 = 3\n",
      "3x2 = 6\n",
      "3x3 = 9\n",
      "3x4 = 12\n",
      "3x5 = 15\n",
      "3x6 = 18\n",
      "3x7 = 21\n",
      "3x8 = 24\n",
      "3x9 = 27\n"
     ]
    }
   ],
   "source": [
    "for i in range(1, 10):\n",
    "    print(f\"3x{i} = {3 * i}\")"
   ]
  },
  {
   "cell_type": "markdown",
   "id": "294400db",
   "metadata": {},
   "source": [
    "167"
   ]
  },
  {
   "cell_type": "code",
   "execution_count": 116,
   "id": "e5c782fc",
   "metadata": {},
   "outputs": [
    {
     "name": "stdout",
     "output_type": "stream",
     "text": [
      "3x1 = 3\n",
      "3x3 = 9\n",
      "3x5 = 15\n",
      "3x7 = 21\n",
      "3x9 = 27\n"
     ]
    }
   ],
   "source": [
    "for i in range(1, 10):\n",
    "    if i % 2 == 1:\n",
    "        print(f\"3x{i} = {3 * i}\")"
   ]
  },
  {
   "cell_type": "markdown",
   "id": "ca85feb2",
   "metadata": {},
   "source": [
    "168"
   ]
  },
  {
   "cell_type": "code",
   "execution_count": 123,
   "id": "42e92c4d",
   "metadata": {},
   "outputs": [
    {
     "name": "stdout",
     "output_type": "stream",
     "text": [
      "합 : 55\n"
     ]
    }
   ],
   "source": [
    "total = 0\n",
    "for i in range(1, 11):\n",
    "    total += i\n",
    "print(\"합 : \" + str(total))"
   ]
  },
  {
   "cell_type": "markdown",
   "id": "e222daeb",
   "metadata": {},
   "source": [
    "169"
   ]
  },
  {
   "cell_type": "code",
   "execution_count": 124,
   "id": "dfcc48af",
   "metadata": {},
   "outputs": [
    {
     "name": "stdout",
     "output_type": "stream",
     "text": [
      "합 : 25\n"
     ]
    }
   ],
   "source": [
    "total = 0\n",
    "for i in range(1, 11):\n",
    "    if i % 2 == 1:\n",
    "        total += i\n",
    "print(\"합 : \" + str(total))"
   ]
  },
  {
   "cell_type": "markdown",
   "id": "82724218",
   "metadata": {},
   "source": [
    "170"
   ]
  },
  {
   "cell_type": "code",
   "execution_count": 126,
   "id": "70385950",
   "metadata": {},
   "outputs": [
    {
     "name": "stdout",
     "output_type": "stream",
     "text": [
      "곱 : 3628800\n"
     ]
    }
   ],
   "source": [
    "total = 1\n",
    "for i in range(1, 11):\n",
    "    total *= i\n",
    "print(\"곱 : \" + str(total))"
   ]
  },
  {
   "cell_type": "markdown",
   "id": "eda6662a",
   "metadata": {},
   "source": [
    "171"
   ]
  },
  {
   "cell_type": "code",
   "execution_count": 2,
   "id": "32bdb53f",
   "metadata": {},
   "outputs": [
    {
     "name": "stdout",
     "output_type": "stream",
     "text": [
      "32100\n",
      "32150\n",
      "32000\n",
      "32500\n"
     ]
    }
   ],
   "source": [
    "price_list = [32100, 32150, 32000, 32500]\n",
    "for i in range(len(price_list)):\n",
    "    print(price_list[i])"
   ]
  },
  {
   "cell_type": "markdown",
   "id": "9cc2abd0",
   "metadata": {},
   "source": [
    "172"
   ]
  },
  {
   "cell_type": "code",
   "execution_count": 3,
   "id": "264ec2fc",
   "metadata": {},
   "outputs": [
    {
     "name": "stdout",
     "output_type": "stream",
     "text": [
      "0 32100\n",
      "1 32150\n",
      "2 32000\n",
      "3 32500\n"
     ]
    }
   ],
   "source": [
    "price_list = [32100, 32150, 32000, 32500]\n",
    "for i in range(len(price_list)):\n",
    "    print(i, price_list[i])"
   ]
  },
  {
   "cell_type": "markdown",
   "id": "fd3553a0",
   "metadata": {},
   "source": [
    "173"
   ]
  },
  {
   "cell_type": "code",
   "execution_count": 8,
   "id": "191a48f0",
   "metadata": {},
   "outputs": [
    {
     "name": "stdout",
     "output_type": "stream",
     "text": [
      "3 32100\n",
      "2 32150\n",
      "1 32000\n",
      "0 32500\n"
     ]
    }
   ],
   "source": [
    "price_list = [32100, 32150, 32000, 32500]\n",
    "for i in range(len(price_list)):\n",
    "    print((len(price_list) - 1) - i, price_list[i])"
   ]
  },
  {
   "cell_type": "markdown",
   "id": "11341344",
   "metadata": {},
   "source": [
    "174"
   ]
  },
  {
   "cell_type": "code",
   "execution_count": 9,
   "id": "4435056c",
   "metadata": {},
   "outputs": [
    {
     "name": "stdout",
     "output_type": "stream",
     "text": [
      "100 32150\n",
      "110 32000\n",
      "120 32500\n"
     ]
    }
   ],
   "source": [
    "price_list = [32100, 32150, 32000, 32500]\n",
    "for i in range(1, 4):\n",
    "    print(90 + 10 * i, price_list[i])"
   ]
  },
  {
   "cell_type": "markdown",
   "id": "068b0b15",
   "metadata": {},
   "source": [
    "175"
   ]
  },
  {
   "cell_type": "code",
   "execution_count": 16,
   "id": "c6e7a0af",
   "metadata": {},
   "outputs": [
    {
     "name": "stdout",
     "output_type": "stream",
     "text": [
      "가 나\n",
      "나 다\n",
      "다 라\n"
     ]
    }
   ],
   "source": [
    "my_list = [\"가\", \"나\", \"다\", \"라\"]\n",
    "for i in range(0, len(my_list) - 1):\n",
    "    print(my_list[i], my_list[i + 1])"
   ]
  },
  {
   "cell_type": "markdown",
   "id": "7af06d7d",
   "metadata": {},
   "source": [
    "176"
   ]
  },
  {
   "cell_type": "code",
   "execution_count": 17,
   "id": "91ca5b45",
   "metadata": {},
   "outputs": [
    {
     "name": "stdout",
     "output_type": "stream",
     "text": [
      "가 나 다\n",
      "나 다 라\n",
      "다 라 마\n"
     ]
    }
   ],
   "source": [
    "my_list = [\"가\", \"나\", \"다\", \"라\", \"마\"]\n",
    "for i in range(0, len(my_list) - 2):\n",
    "    print(my_list[i], my_list[i + 1], my_list[i + 2])"
   ]
  },
  {
   "cell_type": "markdown",
   "id": "ddf63df6",
   "metadata": {},
   "source": [
    "177"
   ]
  },
  {
   "cell_type": "code",
   "execution_count": 4,
   "id": "69f3802e",
   "metadata": {},
   "outputs": [
    {
     "name": "stdout",
     "output_type": "stream",
     "text": [
      "라 다\n",
      "다 나\n",
      "나 가\n"
     ]
    }
   ],
   "source": [
    "my_list = [\"가\", \"나\", \"다\", \"라\"]\n",
    "for i in range(len(my_list) - 1, 0 , -1):\n",
    "    print(my_list[i], my_list[i - 1])"
   ]
  },
  {
   "cell_type": "markdown",
   "id": "b3785beb",
   "metadata": {},
   "source": [
    "178"
   ]
  },
  {
   "cell_type": "code",
   "execution_count": 9,
   "id": "97feb062",
   "metadata": {},
   "outputs": [
    {
     "name": "stdout",
     "output_type": "stream",
     "text": [
      "100\n",
      "200\n",
      "400\n"
     ]
    }
   ],
   "source": [
    "my_list = [100, 200, 400, 800]\n",
    "for i in range(len(my_list) - 1):\n",
    "    print(my_list[i + 1] - my_list[i])"
   ]
  },
  {
   "cell_type": "markdown",
   "id": "893eb1fc",
   "metadata": {},
   "source": [
    "179"
   ]
  },
  {
   "cell_type": "code",
   "execution_count": 11,
   "id": "cc299eaf",
   "metadata": {},
   "outputs": [
    {
     "name": "stdout",
     "output_type": "stream",
     "text": [
      "233.33333333333334\n",
      "466.6666666666667\n",
      "733.3333333333334\n",
      "1033.3333333333333\n"
     ]
    }
   ],
   "source": [
    "my_list = [100, 200, 400, 800, 1000, 1300]\n",
    "for i in range(len(my_list) - 2):\n",
    "    ave = (my_list[i] + my_list[i + 1] + my_list[i + 2]) / 3\n",
    "    print(ave)"
   ]
  },
  {
   "cell_type": "markdown",
   "id": "0632119d",
   "metadata": {},
   "source": [
    "180"
   ]
  },
  {
   "cell_type": "code",
   "execution_count": 12,
   "id": "036dc7ad",
   "metadata": {},
   "outputs": [
    {
     "name": "stdout",
     "output_type": "stream",
     "text": [
      "[50, 100, 30, 80, 0]\n"
     ]
    }
   ],
   "source": [
    "low_prices  = [100, 200, 400, 800, 1000]\n",
    "high_prices = [150, 300, 430, 880, 1000]\n",
    "volatility = []\n",
    "for i in range(len(low_prices)):\n",
    "    volatility.append(high_prices[i] - low_prices[i])\n",
    "print(volatility)"
   ]
  },
  {
   "cell_type": "markdown",
   "id": "3314519e",
   "metadata": {},
   "source": [
    "181"
   ]
  },
  {
   "cell_type": "code",
   "execution_count": null,
   "id": "98ff30b3",
   "metadata": {},
   "outputs": [],
   "source": [
    "apart = [[\"101호\", \"102호\"], [\"210호\", \"202호\"], [\"301호\", \"302호\"]]"
   ]
  },
  {
   "cell_type": "markdown",
   "id": "7a99e7aa",
   "metadata": {},
   "source": [
    "182"
   ]
  },
  {
   "cell_type": "code",
   "execution_count": null,
   "id": "527b160c",
   "metadata": {},
   "outputs": [],
   "source": [
    "stock = [ [\"시가\", 100, 200, 300], [\"종가\", 80, 210, 330] ]"
   ]
  },
  {
   "cell_type": "markdown",
   "id": "7860ca69",
   "metadata": {},
   "source": [
    "183"
   ]
  },
  {
   "cell_type": "code",
   "execution_count": null,
   "id": "338dce75",
   "metadata": {},
   "outputs": [],
   "source": [
    "stock = {\"시가\": [100, 200, 300], \"종가\": [80, 210, 330] }"
   ]
  },
  {
   "cell_type": "markdown",
   "id": "96f9a9e7",
   "metadata": {},
   "source": [
    "184"
   ]
  },
  {
   "cell_type": "code",
   "execution_count": null,
   "id": "89f53957",
   "metadata": {},
   "outputs": [],
   "source": [
    "stock = {\"10/10\": [80, 110, 70, 90], \"10/11\": [210, 230, 190, 200] }"
   ]
  },
  {
   "cell_type": "markdown",
   "id": "b97cd840",
   "metadata": {},
   "source": [
    "185"
   ]
  },
  {
   "cell_type": "code",
   "execution_count": 15,
   "id": "bfec3f61",
   "metadata": {},
   "outputs": [
    {
     "name": "stdout",
     "output_type": "stream",
     "text": [
      "101 호\n",
      "102 호\n",
      "201 호\n",
      "202 호\n",
      "301 호\n",
      "302 호\n"
     ]
    }
   ],
   "source": [
    "apart = [ [101, 102], [201, 202], [301, 302] ]\n",
    "for i in apart:\n",
    "    for j in i:\n",
    "        print(j, \"호\")"
   ]
  },
  {
   "cell_type": "markdown",
   "id": "14a0b766",
   "metadata": {},
   "source": [
    "186"
   ]
  },
  {
   "cell_type": "code",
   "execution_count": 17,
   "id": "0e8c473d",
   "metadata": {},
   "outputs": [
    {
     "name": "stdout",
     "output_type": "stream",
     "text": [
      "301 호\n",
      "302 호\n",
      "201 호\n",
      "202 호\n",
      "101 호\n",
      "102 호\n"
     ]
    }
   ],
   "source": [
    "apart = [ [101, 102], [201, 202], [301, 302] ]\n",
    "for i in reversed(apart):\n",
    "    for j in i:\n",
    "        print(j, \"호\")"
   ]
  },
  {
   "cell_type": "markdown",
   "id": "56a494ef",
   "metadata": {},
   "source": [
    "187"
   ]
  },
  {
   "cell_type": "code",
   "execution_count": 18,
   "id": "2be2a8c0",
   "metadata": {},
   "outputs": [
    {
     "name": "stdout",
     "output_type": "stream",
     "text": [
      "302 호\n",
      "301 호\n",
      "202 호\n",
      "201 호\n",
      "102 호\n",
      "101 호\n"
     ]
    }
   ],
   "source": [
    "apart = [ [101, 102], [201, 202], [301, 302] ]\n",
    "for i in reversed(apart):\n",
    "    for j in reversed(i):\n",
    "        print(j, \"호\")"
   ]
  },
  {
   "cell_type": "markdown",
   "id": "2f77c74d",
   "metadata": {},
   "source": [
    "188"
   ]
  },
  {
   "cell_type": "code",
   "execution_count": 33,
   "id": "d97124dc",
   "metadata": {},
   "outputs": [
    {
     "name": "stdout",
     "output_type": "stream",
     "text": [
      "101 호\n",
      "-----\n",
      "102 호\n",
      "-----\n",
      "201 호\n",
      "-----\n",
      "202 호\n",
      "-----\n",
      "301 호\n",
      "-----\n",
      "302 호\n",
      "-----\n"
     ]
    }
   ],
   "source": [
    "apart = [ [101, 102], [201, 202], [301, 302] ]\n",
    "for i in apart:\n",
    "    for j in i:\n",
    "        print(j, \"호\"); print(\"-----\")"
   ]
  },
  {
   "cell_type": "markdown",
   "id": "15e88b39",
   "metadata": {},
   "source": [
    "189"
   ]
  },
  {
   "cell_type": "code",
   "execution_count": 32,
   "id": "ce7c97b7",
   "metadata": {},
   "outputs": [
    {
     "name": "stdout",
     "output_type": "stream",
     "text": [
      "101 호\n",
      "102 호\n",
      "-----\n",
      "201 호\n",
      "202 호\n",
      "-----\n",
      "301 호\n",
      "302 호\n",
      "-----\n"
     ]
    }
   ],
   "source": [
    "apart = [ [101, 102], [201, 202], [301, 302] ]\n",
    "for i in apart:\n",
    "    for j in i:\n",
    "        print(j, \"호\")\n",
    "    print(\"-----\")"
   ]
  },
  {
   "cell_type": "markdown",
   "id": "c34d83a1",
   "metadata": {},
   "source": [
    "190"
   ]
  },
  {
   "cell_type": "code",
   "execution_count": 34,
   "id": "3e553331",
   "metadata": {},
   "outputs": [
    {
     "name": "stdout",
     "output_type": "stream",
     "text": [
      "101 호\n",
      "102 호\n",
      "201 호\n",
      "202 호\n",
      "301 호\n",
      "302 호\n",
      "-----\n"
     ]
    }
   ],
   "source": [
    "apart = [ [101, 102], [201, 202], [301, 302] ]\n",
    "for i in apart:\n",
    "    for j in i:\n",
    "        print(j, \"호\")\n",
    "print(\"-----\")"
   ]
  },
  {
   "cell_type": "markdown",
   "id": "f380d441",
   "metadata": {},
   "source": [
    "191"
   ]
  },
  {
   "cell_type": "code",
   "execution_count": 38,
   "id": "31651b5b",
   "metadata": {},
   "outputs": [
    {
     "name": "stdout",
     "output_type": "stream",
     "text": [
      "2000.28\n",
      "3050.427\n",
      "2050.2870000000003\n",
      "1980.2772\n",
      "7501.05\n",
      "2050.2870000000003\n",
      "2050.2870000000003\n",
      "1980.2772\n",
      "15452.163\n",
      "15052.107\n",
      "15552.177\n",
      "14902.086000000001\n"
     ]
    }
   ],
   "source": [
    "data = [\n",
    "    [ 2000,  3050,  2050,  1980],\n",
    "    [ 7500,  2050,  2050,  1980],\n",
    "    [15450, 15050, 15550, 14900]\n",
    "]\n",
    "\n",
    "for i in data:\n",
    "    for j in i:\n",
    "        print(j * 1.00014)"
   ]
  },
  {
   "cell_type": "markdown",
   "id": "098cdbe1",
   "metadata": {},
   "source": [
    "192"
   ]
  },
  {
   "cell_type": "code",
   "execution_count": 39,
   "id": "4e97cc15",
   "metadata": {},
   "outputs": [
    {
     "name": "stdout",
     "output_type": "stream",
     "text": [
      "2000.28\n",
      "3050.427\n",
      "2050.2870000000003\n",
      "1980.2772\n",
      "----\n",
      "7501.05\n",
      "2050.2870000000003\n",
      "2050.2870000000003\n",
      "1980.2772\n",
      "----\n",
      "15452.163\n",
      "15052.107\n",
      "15552.177\n",
      "14902.086000000001\n",
      "----\n"
     ]
    }
   ],
   "source": [
    "data = [\n",
    "    [ 2000,  3050,  2050,  1980],\n",
    "    [ 7500,  2050,  2050,  1980],\n",
    "    [15450, 15050, 15550, 14900]\n",
    "]\n",
    "\n",
    "for i in data:\n",
    "    for j in i:\n",
    "        print(j * 1.00014)\n",
    "    print(\"----\")"
   ]
  },
  {
   "cell_type": "markdown",
   "id": "a7aa2aec",
   "metadata": {},
   "source": [
    "193"
   ]
  },
  {
   "cell_type": "code",
   "execution_count": 42,
   "id": "811e3677",
   "metadata": {},
   "outputs": [
    {
     "name": "stdout",
     "output_type": "stream",
     "text": [
      "[2000.28, 3050.427, 2050.2870000000003, 1980.2772, 7501.05, 2050.2870000000003, 2050.2870000000003, 1980.2772, 15452.163, 15052.107, 15552.177, 14902.086000000001]\n"
     ]
    }
   ],
   "source": [
    "data = [\n",
    "    [ 2000,  3050,  2050,  1980],\n",
    "    [ 7500,  2050,  2050,  1980],\n",
    "    [15450, 15050, 15550, 14900]\n",
    "]\n",
    "result = []\n",
    "for i in data:\n",
    "    for j in i:\n",
    "        result.append(j * 1.00014)\n",
    "print(result)"
   ]
  },
  {
   "cell_type": "markdown",
   "id": "8bd26255",
   "metadata": {},
   "source": [
    "194"
   ]
  },
  {
   "cell_type": "code",
   "execution_count": 45,
   "id": "e805cc26",
   "metadata": {},
   "outputs": [
    {
     "name": "stdout",
     "output_type": "stream",
     "text": [
      "[[2000.28, 3050.427, 2050.2870000000003, 1980.2772], [7501.05, 2050.2870000000003, 2050.2870000000003, 1980.2772], [15452.163, 15052.107, 15552.177, 14902.086000000001]]\n"
     ]
    }
   ],
   "source": [
    "data = [\n",
    "    [ 2000,  3050,  2050,  1980],\n",
    "    [ 7500,  2050,  2050,  1980],\n",
    "    [15450, 15050, 15550, 14900]\n",
    "]\n",
    "result = []\n",
    "for i in data:\n",
    "    arr = []\n",
    "    for j in i:\n",
    "        arr.append(j * 1.00014)\n",
    "    result.append(arr)\n",
    "print(result)"
   ]
  },
  {
   "cell_type": "markdown",
   "id": "c411cd3d",
   "metadata": {},
   "source": [
    "195"
   ]
  },
  {
   "cell_type": "code",
   "execution_count": 48,
   "id": "4b7c6aba",
   "metadata": {},
   "outputs": [
    {
     "name": "stdout",
     "output_type": "stream",
     "text": [
      "100\n",
      "190\n",
      "310\n"
     ]
    }
   ],
   "source": [
    "ohlc = [[\"open\", \"high\", \"low\", \"close\"],\n",
    "        [100, 110, 70, 100],\n",
    "        [200, 210, 180, 190],\n",
    "        [300, 310, 300, 310]]\n",
    "for i in ohlc[1:]:\n",
    "    print(i[3])"
   ]
  },
  {
   "cell_type": "markdown",
   "id": "acf79a49",
   "metadata": {},
   "source": [
    "196"
   ]
  },
  {
   "cell_type": "code",
   "execution_count": 49,
   "id": "13782f66",
   "metadata": {},
   "outputs": [
    {
     "name": "stdout",
     "output_type": "stream",
     "text": [
      "190\n",
      "310\n"
     ]
    }
   ],
   "source": [
    "ohlc = [[\"open\", \"high\", \"low\", \"close\"],\n",
    "        [100, 110, 70, 100],\n",
    "        [200, 210, 180, 190],\n",
    "        [300, 310, 300, 310]]\n",
    "for i in ohlc[1:]:\n",
    "    if i[3] > 150:\n",
    "        print(i[3])"
   ]
  },
  {
   "cell_type": "markdown",
   "id": "45995e58",
   "metadata": {},
   "source": [
    "197"
   ]
  },
  {
   "cell_type": "code",
   "execution_count": 50,
   "id": "668252f2",
   "metadata": {},
   "outputs": [
    {
     "name": "stdout",
     "output_type": "stream",
     "text": [
      "100\n",
      "310\n"
     ]
    }
   ],
   "source": [
    "ohlc = [[\"open\", \"high\", \"low\", \"close\"],\n",
    "        [100, 110, 70, 100],\n",
    "        [200, 210, 180, 190],\n",
    "        [300, 310, 300, 310]]\n",
    "for i in ohlc[1:]:\n",
    "    if i[3] >= i[0]:\n",
    "        print(i[3])"
   ]
  },
  {
   "cell_type": "markdown",
   "id": "8604f733",
   "metadata": {},
   "source": [
    "198"
   ]
  },
  {
   "cell_type": "code",
   "execution_count": 53,
   "id": "fbf4c3f4",
   "metadata": {},
   "outputs": [
    {
     "name": "stdout",
     "output_type": "stream",
     "text": [
      "[40, 30, 10]\n"
     ]
    }
   ],
   "source": [
    "ohlc = [[\"open\", \"high\", \"low\", \"close\"],\n",
    "        [100, 110, 70, 100],\n",
    "        [200, 210, 180, 190],\n",
    "        [300, 310, 300, 310]]\n",
    "volatility = []\n",
    "for i in ohlc[1:]:\n",
    "    volatility.append(abs(i[1] - i[2]))\n",
    "print(volatility)"
   ]
  },
  {
   "cell_type": "markdown",
   "id": "5b527d51",
   "metadata": {},
   "source": [
    "199"
   ]
  },
  {
   "cell_type": "code",
   "execution_count": 54,
   "id": "35472055",
   "metadata": {},
   "outputs": [
    {
     "name": "stdout",
     "output_type": "stream",
     "text": [
      "10\n"
     ]
    }
   ],
   "source": [
    "ohlc = [[\"open\", \"high\", \"low\", \"close\"],\n",
    "        [100, 110, 70, 100],\n",
    "        [200, 210, 180, 190],\n",
    "        [300, 310, 300, 310]]\n",
    "for i in ohlc[1:]:\n",
    "    if i[3] > i[0]:\n",
    "        print(abs(i[1] - i[2]))"
   ]
  },
  {
   "cell_type": "markdown",
   "id": "39877485",
   "metadata": {},
   "source": [
    "200"
   ]
  },
  {
   "cell_type": "code",
   "execution_count": 55,
   "id": "e50f737a",
   "metadata": {},
   "outputs": [
    {
     "name": "stdout",
     "output_type": "stream",
     "text": [
      "0\n"
     ]
    }
   ],
   "source": [
    "ohlc = [[\"open\", \"high\", \"low\", \"close\"],\n",
    "        [100, 110, 70, 100],\n",
    "        [200, 210, 180, 190],\n",
    "        [300, 310, 300, 310]]\n",
    "total = 0\n",
    "for i in ohlc[1:]:\n",
    "    earn = i[3] - i[0]\n",
    "    total += earn\n",
    "print(total)"
   ]
  }
 ],
 "metadata": {
  "kernelspec": {
   "display_name": "Python 3 (ipykernel)",
   "language": "python",
   "name": "python3"
  },
  "language_info": {
   "codemirror_mode": {
    "name": "ipython",
    "version": 3
   },
   "file_extension": ".py",
   "mimetype": "text/x-python",
   "name": "python",
   "nbconvert_exporter": "python",
   "pygments_lexer": "ipython3",
   "version": "3.11.7"
  },
  "toc": {
   "base_numbering": 1,
   "nav_menu": {},
   "number_sections": true,
   "sideBar": true,
   "skip_h1_title": false,
   "title_cell": "Table of Contents",
   "title_sidebar": "Contents",
   "toc_cell": false,
   "toc_position": {},
   "toc_section_display": true,
   "toc_window_display": false
  }
 },
 "nbformat": 4,
 "nbformat_minor": 5
}
